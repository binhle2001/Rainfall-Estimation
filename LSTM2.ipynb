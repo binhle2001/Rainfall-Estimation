{
  "cells": [
    {
      "cell_type": "code",
      "execution_count": null,
      "metadata": {
        "id": "CikPGrZWofgU"
      },
      "outputs": [],
      "source": [
        "import numpy as np\n",
        "import matplotlib.pyplot as plt\n",
        "import pandas as pd\n",
        "import os.path\n",
        "from os import path\n",
        "from keras.models import Sequential\n",
        "from keras.layers import Dense\n",
        "from keras.layers import LSTM\n",
        "from keras.layers import Dropout\n",
        "from keras import backend as K\n",
        "from sklearn.metrics import confusion_matrix, accuracy_score\n",
        "from sklearn.preprocessing import OneHotEncoder"
      ]
    },
    {
      "cell_type": "code",
      "execution_count": null,
      "metadata": {
        "id": "sDjIgNZ8Q_Lr"
      },
      "outputs": [],
      "source": [
        "def recall_m(y_true, y_pred):\n",
        "    true_positives = K.sum(K.round(K.clip(y_true * y_pred, 0, 1)))\n",
        "    possible_positives = K.sum(K.round(K.clip(y_true, 0, 1)))\n",
        "    recall = true_positives / (possible_positives + K.epsilon())\n",
        "    return recall\n",
        "\n",
        "def precision_m(y_true, y_pred):\n",
        "    true_positives = K.sum(K.round(K.clip(y_true * y_pred, 0, 1)))\n",
        "    predicted_positives = K.sum(K.round(K.clip(y_pred, 0, 1)))\n",
        "    precision = true_positives / (predicted_positives + K.epsilon())\n",
        "    return precision\n",
        "\n",
        "def f1_m(y_true, y_pred):\n",
        "    precision = precision_m(y_true, y_pred)\n",
        "    recall = recall_m(y_true, y_pred)\n",
        "    return 2*((precision*recall)/(precision+recall+K.epsilon()))"
      ]
    },
    {
      "cell_type": "code",
      "execution_count": null,
      "metadata": {
        "colab": {
          "base_uri": "https://localhost:8080/"
        },
        "id": "VGOd7JiholUM",
        "outputId": "4450b5ea-129b-4889-e062-f41113fd0aa0"
      },
      "outputs": [
        {
          "output_type": "stream",
          "name": "stdout",
          "text": [
            "Mounted at /content/drive\n"
          ]
        }
      ],
      "source": [
        "from google.colab import drive\n",
        "drive.mount('/content/drive')"
      ]
    },
    {
      "cell_type": "code",
      "execution_count": null,
      "metadata": {
        "id": "xSQORofdot6Y"
      },
      "outputs": [],
      "source": [
        "data1_train = pd.read_csv(\"/content/drive/MyDrive/Data mưa/cv1_data_train_92022.csv\")\n",
        "data1_test = pd.read_csv(\"/content/drive/MyDrive/Data mưa/cv1_data_test_92022.csv\")\n",
        "data2_train = pd.read_csv(\"/content/drive/MyDrive/Data mưa/cv2_data_train_92022.csv\")\n",
        "data2_test = pd.read_csv('/content/drive/MyDrive/Data mưa/cv2_data_test_92022.csv')\n",
        "data3_train = pd.read_csv('/content/drive/MyDrive/Data mưa/cv3_data_train_92022.csv')\n",
        "data3_test = pd.read_csv('/content/drive/MyDrive/Data mưa/cv3_data_test_92022.csv')\n",
        "data4_train = pd.read_csv('/content/drive/MyDrive/Data mưa/cv4_data_train_92022.csv')\n",
        "data4_test = pd.read_csv('/content/drive/MyDrive/Data mưa/cv4_data_test_92022.csv')\n",
        "data5_train = pd.read_csv('/content/drive/MyDrive/Data mưa/cv5_data_train_92022.csv')\n",
        "data5_test = pd.read_csv('/content/drive/MyDrive/Data mưa/cv5_data_test_92022.csv')\n",
        "data6_train = pd.read_csv('/content/drive/MyDrive/Data mưa/cv6_data_train_92022.csv')\n",
        "data6_test = pd.read_csv('/content/drive/MyDrive/Data mưa/cv6_data_test_92022.csv')\n",
        "data7_train = pd.read_csv('/content/drive/MyDrive/Data mưa/cv7_data_train_92022.csv')\n",
        "data7_test = pd.read_csv('/content/drive/MyDrive/Data mưa/cv7_data_test_92022.csv')\n",
        "data8_train = pd.read_csv('/content/drive/MyDrive/Data mưa/cv8_data_train_92022.csv')\n",
        "data8_test = pd.read_csv('/content/drive/MyDrive/Data mưa/cv8_data_test_92022.csv')\n",
        "data9_train = pd.read_csv('/content/drive/MyDrive/Data mưa/cv9_data_train_92022.csv')\n",
        "data9_test = pd.read_csv('/content/drive/MyDrive/Data mưa/cv9_data_test_92022.csv')\n",
        "data10_train = pd.read_csv('/content/drive/MyDrive/Data mưa/cv10_data_train_92022.csv')\n",
        "data10_test = pd.read_csv('/content/drive/MyDrive/Data mưa/cv10_data_test_92022.csv')\n",
        "data11_train = pd.read_csv('/content/drive/MyDrive/Data mưa/cv11_data_train_92022.csv')\n",
        "data11_test = pd.read_csv('/content/drive/MyDrive/Data mưa/cv11_data_test_92022.csv')\n",
        "data12_train = pd.read_csv('/content/drive/MyDrive/Data mưa/cv12_data_train_92022.csv')\n",
        "data12_test = pd.read_csv('/content/drive/MyDrive/Data mưa/cv12_data_test_92022.csv')\n",
        "data13_train = pd.read_csv('/content/drive/MyDrive/Data mưa/cv13_data_train_92022.csv')\n",
        "data13_test = pd.read_csv('/content/drive/MyDrive/Data mưa/cv13_data_test_92022.csv')\n",
        "\n"
      ]
    },
    {
      "cell_type": "code",
      "source": [
        "data_train = data12_train\n",
        "data_test = data12_test"
      ],
      "metadata": {
        "id": "Y6E8cn612kNI"
      },
      "execution_count": null,
      "outputs": []
    },
    {
      "cell_type": "code",
      "execution_count": null,
      "metadata": {
        "id": "tq-rRcZjozwo"
      },
      "outputs": [],
      "source": [
        "# data_train = pd.concat([data1_train, data1_test, data3_train, data3_test, data4_train, data4_test, data5_train, data5_test,\n",
        "#                        data6_train, data6_test, data7_train, data7_test, data8_train, data8_test, data9_train, data9_test,\n",
        "#                        data10_train, data10_test, data11_train, data11_test, data12_train, data12_test, data13_train, data13_test])\n",
        "# data_test = pd.concat([data2_train, data2_test])"
      ]
    },
    {
      "cell_type": "code",
      "execution_count": null,
      "metadata": {
        "id": "q6TNnLPc5hUO"
      },
      "outputs": [],
      "source": [
        "data_train = data_train[data_train['value'] != 0]\n",
        "data_test = data_test[data_test['value'] != 0]\n"
      ]
    },
    {
      "cell_type": "code",
      "execution_count": null,
      "metadata": {
        "id": "XegfnPc5HUQG"
      },
      "outputs": [],
      "source": [
        "\n",
        "data_test = data_test.drop(columns = ['x_id', 'y_id', 'DEM_value', 'cloud_value'])\n",
        "\n",
        "data_train = data_train.drop(columns = ['x_id', 'y_id', 'DEM_value', 'cloud_value'])\n"
      ]
    },
    {
      "cell_type": "code",
      "execution_count": null,
      "metadata": {
        "id": "KUU2JNr4H_I0"
      },
      "outputs": [],
      "source": [
        "data_train['utc_time'] = pd.to_datetime(data_train['utc_time'])\n",
        "data_train['hour'] = data_train['utc_time'].apply(lambda x: x.hour)\n",
        "import datetime\n",
        "\n",
        "def function(x):\n",
        "    x = x.timetuple()\n",
        "    jdate = x.tm_yday\n",
        "    return(jdate)\n",
        "data_train['date'] = data_train['utc_time'].apply(lambda x: function(x))\n"
      ]
    },
    {
      "cell_type": "code",
      "source": [
        "data_test['utc_time'] = pd.to_datetime(data_test['utc_time'])\n",
        "data_test['hour'] = data_test['utc_time'].apply(lambda x: x.hour)\n",
        "import datetime\n",
        "\n",
        "def function(x):\n",
        "    x = x.timetuple()\n",
        "    jdate = x.tm_yday\n",
        "    return(jdate)\n",
        "data_test['date'] = data_test['utc_time'].apply(lambda x: function(x))"
      ],
      "metadata": {
        "id": "TCOEi-latA7l"
      },
      "execution_count": null,
      "outputs": []
    },
    {
      "cell_type": "code",
      "source": [
        "def split_day(x):\n",
        "  string = '{0:05b}'.format(x)\n",
        "  arr = [*string]\n",
        "  arr = [int(a) for a in arr]\n",
        "  return arr"
      ],
      "metadata": {
        "id": "uaE18B0TlJ_d"
      },
      "execution_count": null,
      "outputs": []
    },
    {
      "cell_type": "code",
      "source": [
        "def split_month(x):\n",
        "  string = '{0:04b}'.format(x)\n",
        "  arr = [*string]\n",
        "  arr = [int(a) for a in arr]\n",
        "  return arr"
      ],
      "metadata": {
        "id": "Bm4GX9d0oNnM"
      },
      "execution_count": null,
      "outputs": []
    },
    {
      "cell_type": "code",
      "source": [
        "print('{0:04b}'.format(10))"
      ],
      "metadata": {
        "colab": {
          "base_uri": "https://localhost:8080/"
        },
        "id": "QWyhgZnGrkH1",
        "outputId": "33ecdd4a-f2b1-4756-f877-a2fc7728d6cf"
      },
      "execution_count": null,
      "outputs": [
        {
          "output_type": "stream",
          "name": "stdout",
          "text": [
            "1010\n"
          ]
        }
      ]
    },
    {
      "cell_type": "code",
      "source": [
        "def fill_columns(data_test):\n",
        "  data_test['bit_day1'] = data_test['utc_time'].apply(lambda x: split_day(x.day)[0])\n",
        "  data_test['bit_day2'] = data_test['utc_time'].apply(lambda x: split_day(x.day)[1])\n",
        "  data_test['bit_day3'] = data_test['utc_time'].apply(lambda x: split_day(x.day)[2])\n",
        "  data_test['bit_day4'] = data_test['utc_time'].apply(lambda x: split_day(x.day)[3])\n",
        "  data_test['bit_day5'] = data_test['utc_time'].apply(lambda x: split_day(x.day)[4])\n",
        "  data_test['bit_month1'] = data_test['utc_time'].apply(lambda x: split_day(x.month)[1])\n",
        "  data_test['bit_month2'] = data_test['utc_time'].apply(lambda x: split_day(x.month)[2])\n",
        "  data_test['bit_month3'] = data_test['utc_time'].apply(lambda x: split_day(x.month)[3])\n",
        "  data_test['bit_month4'] = data_test['utc_time'].apply(lambda x: split_day(x.month)[4])"
      ],
      "metadata": {
        "id": "8liXRoMLtLL9"
      },
      "execution_count": null,
      "outputs": []
    },
    {
      "cell_type": "code",
      "source": [
        "fill_columns(data_test)\n",
        "fill_columns(data_train)"
      ],
      "metadata": {
        "id": "fUQemZfUHp2e"
      },
      "execution_count": null,
      "outputs": []
    },
    {
      "cell_type": "code",
      "source": [
        "data_train "
      ],
      "metadata": {
        "colab": {
          "base_uri": "https://localhost:8080/",
          "height": 835
        },
        "id": "4FcyNY2AoyFZ",
        "outputId": "7c573a96-92d3-4941-c924-e5695b5654e3"
      },
      "execution_count": null,
      "outputs": [
        {
          "output_type": "execute_result",
          "data": {
            "text/plain": [
              "                                                     Name                 id  \\\n",
              "2                                                  226709          Bon Phặng   \n",
              "3                                                  355243       Dap-TDThacBa   \n",
              "6                                                  827707         Lùng Phình   \n",
              "7                                                  134604             TanTru   \n",
              "8                                                  634150  Đinh Trang Thượng   \n",
              "...                                                   ...                ...   \n",
              "455125                                               9053             EaSin    \n",
              "455127                                             169811         NT.DongHai   \n",
              "455131  ARG026                                        ...           NGOC LAC   \n",
              "455134                                             201575             NuiSap   \n",
              "455137                                             539167           Châu Khê   \n",
              "\n",
              "             lon        lat  value            utc_time  irb_value   wvb_b09  \\\n",
              "2       103.7740  21.388020    0.2 2020-10-19 09:00:00  275.27075  -8.14667   \n",
              "3       105.0230  21.747030    1.2 2020-11-16 08:00:00  226.62573  -3.65350   \n",
              "6       104.3256  22.592780    0.2 2020-10-18 20:00:00  240.63751  -5.89599   \n",
              "7       106.5203  10.520560    0.2 2019-09-14 07:00:00  249.41003  -7.57355   \n",
              "8       107.9703  11.726110    1.8 2020-08-06 12:00:00  287.28284 -10.59155   \n",
              "...          ...        ...    ...                 ...        ...       ...   \n",
              "455125  108.1370  13.069390    2.4 2019-08-06 10:00:00  256.57202  -9.00946   \n",
              "455127  105.6942   9.191111    0.8 2020-09-17 04:00:00  276.25464  -9.72003   \n",
              "455131  105.4000  20.033330    2.6 2020-10-18 09:00:00  272.78003 -12.23797   \n",
              "455134  105.2706  10.267190    5.8 2020-09-18 10:00:00  273.78003  -9.17822   \n",
              "455137  104.7822  19.108890    1.0 2020-10-17 16:00:00  260.20996  -8.43219   \n",
              "\n",
              "        b09_b10   b10_b16  ...  date  bit_day1  bit_day2  bit_day3  bit_day4  \\\n",
              "2      -8.96960 -11.14472  ...   293         1         0         0         1   \n",
              "3      -1.18000   2.08033  ...   321         1         0         0         0   \n",
              "6      -2.80567   0.37415  ...   292         1         0         0         1   \n",
              "7      -4.96355  -0.35480  ...   257         0         1         1         1   \n",
              "8      -9.52618 -13.02918  ...   219         0         0         1         1   \n",
              "...         ...       ...  ...   ...       ...       ...       ...       ...   \n",
              "455125 -5.48767  -2.88971  ...   218         0         0         1         1   \n",
              "455127 -7.40374 -10.08624  ...   261         1         0         0         0   \n",
              "455131 -7.90425  -4.77000  ...   292         1         0         0         1   \n",
              "455134 -7.35956  -8.52698  ...   262         1         0         0         1   \n",
              "455137 -5.58129  -1.79273  ...   291         1         0         0         0   \n",
              "\n",
              "        bit_day5  bit_month1  bit_month2  bit_month3  bit_month4  \n",
              "2              1           1           0           1           0  \n",
              "3              0           1           0           1           1  \n",
              "6              0           1           0           1           0  \n",
              "7              0           1           0           0           1  \n",
              "8              0           1           0           0           0  \n",
              "...          ...         ...         ...         ...         ...  \n",
              "455125         0           1           0           0           0  \n",
              "455127         1           1           0           0           1  \n",
              "455131         0           1           0           1           0  \n",
              "455134         0           1           0           0           1  \n",
              "455137         1           1           0           1           0  \n",
              "\n",
              "[182058 rows x 23 columns]"
            ],
            "text/html": [
              "\n",
              "  <div id=\"df-55df2289-4e03-40fd-bf76-f5957edf5d69\">\n",
              "    <div class=\"colab-df-container\">\n",
              "      <div>\n",
              "<style scoped>\n",
              "    .dataframe tbody tr th:only-of-type {\n",
              "        vertical-align: middle;\n",
              "    }\n",
              "\n",
              "    .dataframe tbody tr th {\n",
              "        vertical-align: top;\n",
              "    }\n",
              "\n",
              "    .dataframe thead th {\n",
              "        text-align: right;\n",
              "    }\n",
              "</style>\n",
              "<table border=\"1\" class=\"dataframe\">\n",
              "  <thead>\n",
              "    <tr style=\"text-align: right;\">\n",
              "      <th></th>\n",
              "      <th>Name</th>\n",
              "      <th>id</th>\n",
              "      <th>lon</th>\n",
              "      <th>lat</th>\n",
              "      <th>value</th>\n",
              "      <th>utc_time</th>\n",
              "      <th>irb_value</th>\n",
              "      <th>wvb_b09</th>\n",
              "      <th>b09_b10</th>\n",
              "      <th>b10_b16</th>\n",
              "      <th>...</th>\n",
              "      <th>date</th>\n",
              "      <th>bit_day1</th>\n",
              "      <th>bit_day2</th>\n",
              "      <th>bit_day3</th>\n",
              "      <th>bit_day4</th>\n",
              "      <th>bit_day5</th>\n",
              "      <th>bit_month1</th>\n",
              "      <th>bit_month2</th>\n",
              "      <th>bit_month3</th>\n",
              "      <th>bit_month4</th>\n",
              "    </tr>\n",
              "  </thead>\n",
              "  <tbody>\n",
              "    <tr>\n",
              "      <th>2</th>\n",
              "      <td>226709</td>\n",
              "      <td>Bon Phặng</td>\n",
              "      <td>103.7740</td>\n",
              "      <td>21.388020</td>\n",
              "      <td>0.2</td>\n",
              "      <td>2020-10-19 09:00:00</td>\n",
              "      <td>275.27075</td>\n",
              "      <td>-8.14667</td>\n",
              "      <td>-8.96960</td>\n",
              "      <td>-11.14472</td>\n",
              "      <td>...</td>\n",
              "      <td>293</td>\n",
              "      <td>1</td>\n",
              "      <td>0</td>\n",
              "      <td>0</td>\n",
              "      <td>1</td>\n",
              "      <td>1</td>\n",
              "      <td>1</td>\n",
              "      <td>0</td>\n",
              "      <td>1</td>\n",
              "      <td>0</td>\n",
              "    </tr>\n",
              "    <tr>\n",
              "      <th>3</th>\n",
              "      <td>355243</td>\n",
              "      <td>Dap-TDThacBa</td>\n",
              "      <td>105.0230</td>\n",
              "      <td>21.747030</td>\n",
              "      <td>1.2</td>\n",
              "      <td>2020-11-16 08:00:00</td>\n",
              "      <td>226.62573</td>\n",
              "      <td>-3.65350</td>\n",
              "      <td>-1.18000</td>\n",
              "      <td>2.08033</td>\n",
              "      <td>...</td>\n",
              "      <td>321</td>\n",
              "      <td>1</td>\n",
              "      <td>0</td>\n",
              "      <td>0</td>\n",
              "      <td>0</td>\n",
              "      <td>0</td>\n",
              "      <td>1</td>\n",
              "      <td>0</td>\n",
              "      <td>1</td>\n",
              "      <td>1</td>\n",
              "    </tr>\n",
              "    <tr>\n",
              "      <th>6</th>\n",
              "      <td>827707</td>\n",
              "      <td>Lùng Phình</td>\n",
              "      <td>104.3256</td>\n",
              "      <td>22.592780</td>\n",
              "      <td>0.2</td>\n",
              "      <td>2020-10-18 20:00:00</td>\n",
              "      <td>240.63751</td>\n",
              "      <td>-5.89599</td>\n",
              "      <td>-2.80567</td>\n",
              "      <td>0.37415</td>\n",
              "      <td>...</td>\n",
              "      <td>292</td>\n",
              "      <td>1</td>\n",
              "      <td>0</td>\n",
              "      <td>0</td>\n",
              "      <td>1</td>\n",
              "      <td>0</td>\n",
              "      <td>1</td>\n",
              "      <td>0</td>\n",
              "      <td>1</td>\n",
              "      <td>0</td>\n",
              "    </tr>\n",
              "    <tr>\n",
              "      <th>7</th>\n",
              "      <td>134604</td>\n",
              "      <td>TanTru</td>\n",
              "      <td>106.5203</td>\n",
              "      <td>10.520560</td>\n",
              "      <td>0.2</td>\n",
              "      <td>2019-09-14 07:00:00</td>\n",
              "      <td>249.41003</td>\n",
              "      <td>-7.57355</td>\n",
              "      <td>-4.96355</td>\n",
              "      <td>-0.35480</td>\n",
              "      <td>...</td>\n",
              "      <td>257</td>\n",
              "      <td>0</td>\n",
              "      <td>1</td>\n",
              "      <td>1</td>\n",
              "      <td>1</td>\n",
              "      <td>0</td>\n",
              "      <td>1</td>\n",
              "      <td>0</td>\n",
              "      <td>0</td>\n",
              "      <td>1</td>\n",
              "    </tr>\n",
              "    <tr>\n",
              "      <th>8</th>\n",
              "      <td>634150</td>\n",
              "      <td>Đinh Trang Thượng</td>\n",
              "      <td>107.9703</td>\n",
              "      <td>11.726110</td>\n",
              "      <td>1.8</td>\n",
              "      <td>2020-08-06 12:00:00</td>\n",
              "      <td>287.28284</td>\n",
              "      <td>-10.59155</td>\n",
              "      <td>-9.52618</td>\n",
              "      <td>-13.02918</td>\n",
              "      <td>...</td>\n",
              "      <td>219</td>\n",
              "      <td>0</td>\n",
              "      <td>0</td>\n",
              "      <td>1</td>\n",
              "      <td>1</td>\n",
              "      <td>0</td>\n",
              "      <td>1</td>\n",
              "      <td>0</td>\n",
              "      <td>0</td>\n",
              "      <td>0</td>\n",
              "    </tr>\n",
              "    <tr>\n",
              "      <th>...</th>\n",
              "      <td>...</td>\n",
              "      <td>...</td>\n",
              "      <td>...</td>\n",
              "      <td>...</td>\n",
              "      <td>...</td>\n",
              "      <td>...</td>\n",
              "      <td>...</td>\n",
              "      <td>...</td>\n",
              "      <td>...</td>\n",
              "      <td>...</td>\n",
              "      <td>...</td>\n",
              "      <td>...</td>\n",
              "      <td>...</td>\n",
              "      <td>...</td>\n",
              "      <td>...</td>\n",
              "      <td>...</td>\n",
              "      <td>...</td>\n",
              "      <td>...</td>\n",
              "      <td>...</td>\n",
              "      <td>...</td>\n",
              "      <td>...</td>\n",
              "    </tr>\n",
              "    <tr>\n",
              "      <th>455125</th>\n",
              "      <td>9053</td>\n",
              "      <td>EaSin</td>\n",
              "      <td>108.1370</td>\n",
              "      <td>13.069390</td>\n",
              "      <td>2.4</td>\n",
              "      <td>2019-08-06 10:00:00</td>\n",
              "      <td>256.57202</td>\n",
              "      <td>-9.00946</td>\n",
              "      <td>-5.48767</td>\n",
              "      <td>-2.88971</td>\n",
              "      <td>...</td>\n",
              "      <td>218</td>\n",
              "      <td>0</td>\n",
              "      <td>0</td>\n",
              "      <td>1</td>\n",
              "      <td>1</td>\n",
              "      <td>0</td>\n",
              "      <td>1</td>\n",
              "      <td>0</td>\n",
              "      <td>0</td>\n",
              "      <td>0</td>\n",
              "    </tr>\n",
              "    <tr>\n",
              "      <th>455127</th>\n",
              "      <td>169811</td>\n",
              "      <td>NT.DongHai</td>\n",
              "      <td>105.6942</td>\n",
              "      <td>9.191111</td>\n",
              "      <td>0.8</td>\n",
              "      <td>2020-09-17 04:00:00</td>\n",
              "      <td>276.25464</td>\n",
              "      <td>-9.72003</td>\n",
              "      <td>-7.40374</td>\n",
              "      <td>-10.08624</td>\n",
              "      <td>...</td>\n",
              "      <td>261</td>\n",
              "      <td>1</td>\n",
              "      <td>0</td>\n",
              "      <td>0</td>\n",
              "      <td>0</td>\n",
              "      <td>1</td>\n",
              "      <td>1</td>\n",
              "      <td>0</td>\n",
              "      <td>0</td>\n",
              "      <td>1</td>\n",
              "    </tr>\n",
              "    <tr>\n",
              "      <th>455131</th>\n",
              "      <td>ARG026                                        ...</td>\n",
              "      <td>NGOC LAC</td>\n",
              "      <td>105.4000</td>\n",
              "      <td>20.033330</td>\n",
              "      <td>2.6</td>\n",
              "      <td>2020-10-18 09:00:00</td>\n",
              "      <td>272.78003</td>\n",
              "      <td>-12.23797</td>\n",
              "      <td>-7.90425</td>\n",
              "      <td>-4.77000</td>\n",
              "      <td>...</td>\n",
              "      <td>292</td>\n",
              "      <td>1</td>\n",
              "      <td>0</td>\n",
              "      <td>0</td>\n",
              "      <td>1</td>\n",
              "      <td>0</td>\n",
              "      <td>1</td>\n",
              "      <td>0</td>\n",
              "      <td>1</td>\n",
              "      <td>0</td>\n",
              "    </tr>\n",
              "    <tr>\n",
              "      <th>455134</th>\n",
              "      <td>201575</td>\n",
              "      <td>NuiSap</td>\n",
              "      <td>105.2706</td>\n",
              "      <td>10.267190</td>\n",
              "      <td>5.8</td>\n",
              "      <td>2020-09-18 10:00:00</td>\n",
              "      <td>273.78003</td>\n",
              "      <td>-9.17822</td>\n",
              "      <td>-7.35956</td>\n",
              "      <td>-8.52698</td>\n",
              "      <td>...</td>\n",
              "      <td>262</td>\n",
              "      <td>1</td>\n",
              "      <td>0</td>\n",
              "      <td>0</td>\n",
              "      <td>1</td>\n",
              "      <td>0</td>\n",
              "      <td>1</td>\n",
              "      <td>0</td>\n",
              "      <td>0</td>\n",
              "      <td>1</td>\n",
              "    </tr>\n",
              "    <tr>\n",
              "      <th>455137</th>\n",
              "      <td>539167</td>\n",
              "      <td>Châu Khê</td>\n",
              "      <td>104.7822</td>\n",
              "      <td>19.108890</td>\n",
              "      <td>1.0</td>\n",
              "      <td>2020-10-17 16:00:00</td>\n",
              "      <td>260.20996</td>\n",
              "      <td>-8.43219</td>\n",
              "      <td>-5.58129</td>\n",
              "      <td>-1.79273</td>\n",
              "      <td>...</td>\n",
              "      <td>291</td>\n",
              "      <td>1</td>\n",
              "      <td>0</td>\n",
              "      <td>0</td>\n",
              "      <td>0</td>\n",
              "      <td>1</td>\n",
              "      <td>1</td>\n",
              "      <td>0</td>\n",
              "      <td>1</td>\n",
              "      <td>0</td>\n",
              "    </tr>\n",
              "  </tbody>\n",
              "</table>\n",
              "<p>182058 rows × 23 columns</p>\n",
              "</div>\n",
              "      <button class=\"colab-df-convert\" onclick=\"convertToInteractive('df-55df2289-4e03-40fd-bf76-f5957edf5d69')\"\n",
              "              title=\"Convert this dataframe to an interactive table.\"\n",
              "              style=\"display:none;\">\n",
              "        \n",
              "  <svg xmlns=\"http://www.w3.org/2000/svg\" height=\"24px\"viewBox=\"0 0 24 24\"\n",
              "       width=\"24px\">\n",
              "    <path d=\"M0 0h24v24H0V0z\" fill=\"none\"/>\n",
              "    <path d=\"M18.56 5.44l.94 2.06.94-2.06 2.06-.94-2.06-.94-.94-2.06-.94 2.06-2.06.94zm-11 1L8.5 8.5l.94-2.06 2.06-.94-2.06-.94L8.5 2.5l-.94 2.06-2.06.94zm10 10l.94 2.06.94-2.06 2.06-.94-2.06-.94-.94-2.06-.94 2.06-2.06.94z\"/><path d=\"M17.41 7.96l-1.37-1.37c-.4-.4-.92-.59-1.43-.59-.52 0-1.04.2-1.43.59L10.3 9.45l-7.72 7.72c-.78.78-.78 2.05 0 2.83L4 21.41c.39.39.9.59 1.41.59.51 0 1.02-.2 1.41-.59l7.78-7.78 2.81-2.81c.8-.78.8-2.07 0-2.86zM5.41 20L4 18.59l7.72-7.72 1.47 1.35L5.41 20z\"/>\n",
              "  </svg>\n",
              "      </button>\n",
              "      \n",
              "  <style>\n",
              "    .colab-df-container {\n",
              "      display:flex;\n",
              "      flex-wrap:wrap;\n",
              "      gap: 12px;\n",
              "    }\n",
              "\n",
              "    .colab-df-convert {\n",
              "      background-color: #E8F0FE;\n",
              "      border: none;\n",
              "      border-radius: 50%;\n",
              "      cursor: pointer;\n",
              "      display: none;\n",
              "      fill: #1967D2;\n",
              "      height: 32px;\n",
              "      padding: 0 0 0 0;\n",
              "      width: 32px;\n",
              "    }\n",
              "\n",
              "    .colab-df-convert:hover {\n",
              "      background-color: #E2EBFA;\n",
              "      box-shadow: 0px 1px 2px rgba(60, 64, 67, 0.3), 0px 1px 3px 1px rgba(60, 64, 67, 0.15);\n",
              "      fill: #174EA6;\n",
              "    }\n",
              "\n",
              "    [theme=dark] .colab-df-convert {\n",
              "      background-color: #3B4455;\n",
              "      fill: #D2E3FC;\n",
              "    }\n",
              "\n",
              "    [theme=dark] .colab-df-convert:hover {\n",
              "      background-color: #434B5C;\n",
              "      box-shadow: 0px 1px 3px 1px rgba(0, 0, 0, 0.15);\n",
              "      filter: drop-shadow(0px 1px 2px rgba(0, 0, 0, 0.3));\n",
              "      fill: #FFFFFF;\n",
              "    }\n",
              "  </style>\n",
              "\n",
              "      <script>\n",
              "        const buttonEl =\n",
              "          document.querySelector('#df-55df2289-4e03-40fd-bf76-f5957edf5d69 button.colab-df-convert');\n",
              "        buttonEl.style.display =\n",
              "          google.colab.kernel.accessAllowed ? 'block' : 'none';\n",
              "\n",
              "        async function convertToInteractive(key) {\n",
              "          const element = document.querySelector('#df-55df2289-4e03-40fd-bf76-f5957edf5d69');\n",
              "          const dataTable =\n",
              "            await google.colab.kernel.invokeFunction('convertToInteractive',\n",
              "                                                     [key], {});\n",
              "          if (!dataTable) return;\n",
              "\n",
              "          const docLinkHtml = 'Like what you see? Visit the ' +\n",
              "            '<a target=\"_blank\" href=https://colab.research.google.com/notebooks/data_table.ipynb>data table notebook</a>'\n",
              "            + ' to learn more about interactive tables.';\n",
              "          element.innerHTML = '';\n",
              "          dataTable['output_type'] = 'display_data';\n",
              "          await google.colab.output.renderOutput(dataTable, element);\n",
              "          const docLink = document.createElement('div');\n",
              "          docLink.innerHTML = docLinkHtml;\n",
              "          element.appendChild(docLink);\n",
              "        }\n",
              "      </script>\n",
              "    </div>\n",
              "  </div>\n",
              "  "
            ]
          },
          "metadata": {},
          "execution_count": 1049
        }
      ]
    },
    {
      "cell_type": "code",
      "source": [
        "data_train = data_train.drop(columns = 'utc_time')"
      ],
      "metadata": {
        "id": "atxru1zzq-4X"
      },
      "execution_count": null,
      "outputs": []
    },
    {
      "cell_type": "code",
      "source": [
        "data_test = data_test.drop(columns = 'utc_time')"
      ],
      "metadata": {
        "id": "jpdOnLS7tZHl"
      },
      "execution_count": null,
      "outputs": []
    },
    {
      "cell_type": "code",
      "execution_count": null,
      "metadata": {
        "id": "lT4c3YaZORC0"
      },
      "outputs": [],
      "source": []
    },
    {
      "cell_type": "code",
      "execution_count": null,
      "metadata": {
        "id": "1ocSRDfl5T5Q"
      },
      "outputs": [],
      "source": [
        "data_train = data_train.sort_values(by = ['id', 'date', 'hour'])\n"
      ]
    },
    {
      "cell_type": "code",
      "execution_count": null,
      "metadata": {
        "id": "SjxpBkNNOb9M"
      },
      "outputs": [],
      "source": [
        "data_test = data_test.sort_values(by = ['id', 'date', 'hour'])"
      ]
    },
    {
      "cell_type": "code",
      "execution_count": null,
      "metadata": {
        "id": "SAdrwFsG58PT",
        "colab": {
          "base_uri": "https://localhost:8080/",
          "height": 835
        },
        "outputId": "5bf3c4cb-f220-417a-85ac-8afd5185faf7"
      },
      "outputs": [
        {
          "output_type": "execute_result",
          "data": {
            "text/plain": [
              "          Name                 id       lon       lat  value  irb_value  \\\n",
              "195634  356642             A Bung  107.0261  16.36830    1.0  265.90723   \n",
              "244305  356642             A Bung  107.0261  16.36830   15.6  225.62500   \n",
              "345595  356642             A Bung  107.0261  16.36830    1.0  260.20996   \n",
              "148202  356642             A Bung  107.0261  16.36830    0.2  259.61365   \n",
              "270064  356642             A Bung  107.0261  16.36830    0.6  264.24000   \n",
              "...        ...                ...       ...       ...    ...        ...   \n",
              "384482  299387  Đức Vân - Bắc Kạn  106.0331  22.44722    0.2  291.11400   \n",
              "62037   299387  Đức Vân - Bắc Kạn  106.0331  22.44722    0.2  259.61365   \n",
              "295513  299387  Đức Vân - Bắc Kạn  106.0331  22.44722    0.2  252.74902   \n",
              "299573  299387  Đức Vân - Bắc Kạn  106.0331  22.44722    0.2  254.68500   \n",
              "100091  299387  Đức Vân - Bắc Kạn  106.0331  22.44722    0.6  257.80505   \n",
              "\n",
              "        wvb_b09  b09_b10   b10_b16  b11_irb  ...  date  bit_day1  bit_day2  \\\n",
              "195634 -7.87616 -8.39807  -7.45459 -1.06446  ...   202         1         0   \n",
              "244305 -2.35748  0.47748  -0.45429 -0.29102  ...   203         1         0   \n",
              "345595 -9.43219 -5.39379  -2.23621 -2.01392  ...   214         0         0   \n",
              "148202 -8.69440 -4.58129  -2.42072 -2.06165  ...   214         0         0   \n",
              "270064 -8.93762 -5.24445  -3.90924 -2.31996  ...   214         0         0   \n",
              "...         ...      ...       ...      ...  ...   ...       ...       ...   \n",
              "384482 -8.43219 -8.75628 -16.15290 -3.34800  ...   263         1         0   \n",
              "62037  -5.37335 -3.78521  -5.07142 -1.41761  ...   263         1         0   \n",
              "295513 -6.38220 -3.31433  -0.24457 -1.34900  ...   263         1         0   \n",
              "299573 -6.28107 -2.16149  -1.33851 -2.56500  ...   263         1         0   \n",
              "100091 -7.28107 -2.90429  -2.18970 -2.22503  ...   263         1         0   \n",
              "\n",
              "        bit_day3  bit_day4  bit_day5  bit_month1  bit_month2  bit_month3  \\\n",
              "195634         1         0         0           0           1           1   \n",
              "244305         1         0         1           0           1           1   \n",
              "345595         0         0         1           1           0           0   \n",
              "148202         0         0         1           1           0           0   \n",
              "270064         0         0         1           1           0           0   \n",
              "...          ...       ...       ...         ...         ...         ...   \n",
              "384482         0         1         1           1           0           0   \n",
              "62037          0         1         1           1           0           0   \n",
              "295513         0         1         1           1           0           0   \n",
              "299573         0         1         1           1           0           0   \n",
              "100091         0         1         1           1           0           0   \n",
              "\n",
              "        bit_month4  \n",
              "195634           1  \n",
              "244305           1  \n",
              "345595           0  \n",
              "148202           0  \n",
              "270064           0  \n",
              "...            ...  \n",
              "384482           1  \n",
              "62037            1  \n",
              "295513           1  \n",
              "299573           1  \n",
              "100091           1  \n",
              "\n",
              "[182058 rows x 22 columns]"
            ],
            "text/html": [
              "\n",
              "  <div id=\"df-46c34079-08bd-403c-bc8b-8d9e7d529ce1\">\n",
              "    <div class=\"colab-df-container\">\n",
              "      <div>\n",
              "<style scoped>\n",
              "    .dataframe tbody tr th:only-of-type {\n",
              "        vertical-align: middle;\n",
              "    }\n",
              "\n",
              "    .dataframe tbody tr th {\n",
              "        vertical-align: top;\n",
              "    }\n",
              "\n",
              "    .dataframe thead th {\n",
              "        text-align: right;\n",
              "    }\n",
              "</style>\n",
              "<table border=\"1\" class=\"dataframe\">\n",
              "  <thead>\n",
              "    <tr style=\"text-align: right;\">\n",
              "      <th></th>\n",
              "      <th>Name</th>\n",
              "      <th>id</th>\n",
              "      <th>lon</th>\n",
              "      <th>lat</th>\n",
              "      <th>value</th>\n",
              "      <th>irb_value</th>\n",
              "      <th>wvb_b09</th>\n",
              "      <th>b09_b10</th>\n",
              "      <th>b10_b16</th>\n",
              "      <th>b11_irb</th>\n",
              "      <th>...</th>\n",
              "      <th>date</th>\n",
              "      <th>bit_day1</th>\n",
              "      <th>bit_day2</th>\n",
              "      <th>bit_day3</th>\n",
              "      <th>bit_day4</th>\n",
              "      <th>bit_day5</th>\n",
              "      <th>bit_month1</th>\n",
              "      <th>bit_month2</th>\n",
              "      <th>bit_month3</th>\n",
              "      <th>bit_month4</th>\n",
              "    </tr>\n",
              "  </thead>\n",
              "  <tbody>\n",
              "    <tr>\n",
              "      <th>195634</th>\n",
              "      <td>356642</td>\n",
              "      <td>A Bung</td>\n",
              "      <td>107.0261</td>\n",
              "      <td>16.36830</td>\n",
              "      <td>1.0</td>\n",
              "      <td>265.90723</td>\n",
              "      <td>-7.87616</td>\n",
              "      <td>-8.39807</td>\n",
              "      <td>-7.45459</td>\n",
              "      <td>-1.06446</td>\n",
              "      <td>...</td>\n",
              "      <td>202</td>\n",
              "      <td>1</td>\n",
              "      <td>0</td>\n",
              "      <td>1</td>\n",
              "      <td>0</td>\n",
              "      <td>0</td>\n",
              "      <td>0</td>\n",
              "      <td>1</td>\n",
              "      <td>1</td>\n",
              "      <td>1</td>\n",
              "    </tr>\n",
              "    <tr>\n",
              "      <th>244305</th>\n",
              "      <td>356642</td>\n",
              "      <td>A Bung</td>\n",
              "      <td>107.0261</td>\n",
              "      <td>16.36830</td>\n",
              "      <td>15.6</td>\n",
              "      <td>225.62500</td>\n",
              "      <td>-2.35748</td>\n",
              "      <td>0.47748</td>\n",
              "      <td>-0.45429</td>\n",
              "      <td>-0.29102</td>\n",
              "      <td>...</td>\n",
              "      <td>203</td>\n",
              "      <td>1</td>\n",
              "      <td>0</td>\n",
              "      <td>1</td>\n",
              "      <td>0</td>\n",
              "      <td>1</td>\n",
              "      <td>0</td>\n",
              "      <td>1</td>\n",
              "      <td>1</td>\n",
              "      <td>1</td>\n",
              "    </tr>\n",
              "    <tr>\n",
              "      <th>345595</th>\n",
              "      <td>356642</td>\n",
              "      <td>A Bung</td>\n",
              "      <td>107.0261</td>\n",
              "      <td>16.36830</td>\n",
              "      <td>1.0</td>\n",
              "      <td>260.20996</td>\n",
              "      <td>-9.43219</td>\n",
              "      <td>-5.39379</td>\n",
              "      <td>-2.23621</td>\n",
              "      <td>-2.01392</td>\n",
              "      <td>...</td>\n",
              "      <td>214</td>\n",
              "      <td>0</td>\n",
              "      <td>0</td>\n",
              "      <td>0</td>\n",
              "      <td>0</td>\n",
              "      <td>1</td>\n",
              "      <td>1</td>\n",
              "      <td>0</td>\n",
              "      <td>0</td>\n",
              "      <td>0</td>\n",
              "    </tr>\n",
              "    <tr>\n",
              "      <th>148202</th>\n",
              "      <td>356642</td>\n",
              "      <td>A Bung</td>\n",
              "      <td>107.0261</td>\n",
              "      <td>16.36830</td>\n",
              "      <td>0.2</td>\n",
              "      <td>259.61365</td>\n",
              "      <td>-8.69440</td>\n",
              "      <td>-4.58129</td>\n",
              "      <td>-2.42072</td>\n",
              "      <td>-2.06165</td>\n",
              "      <td>...</td>\n",
              "      <td>214</td>\n",
              "      <td>0</td>\n",
              "      <td>0</td>\n",
              "      <td>0</td>\n",
              "      <td>0</td>\n",
              "      <td>1</td>\n",
              "      <td>1</td>\n",
              "      <td>0</td>\n",
              "      <td>0</td>\n",
              "      <td>0</td>\n",
              "    </tr>\n",
              "    <tr>\n",
              "      <th>270064</th>\n",
              "      <td>356642</td>\n",
              "      <td>A Bung</td>\n",
              "      <td>107.0261</td>\n",
              "      <td>16.36830</td>\n",
              "      <td>0.6</td>\n",
              "      <td>264.24000</td>\n",
              "      <td>-8.93762</td>\n",
              "      <td>-5.24445</td>\n",
              "      <td>-3.90924</td>\n",
              "      <td>-2.31996</td>\n",
              "      <td>...</td>\n",
              "      <td>214</td>\n",
              "      <td>0</td>\n",
              "      <td>0</td>\n",
              "      <td>0</td>\n",
              "      <td>0</td>\n",
              "      <td>1</td>\n",
              "      <td>1</td>\n",
              "      <td>0</td>\n",
              "      <td>0</td>\n",
              "      <td>0</td>\n",
              "    </tr>\n",
              "    <tr>\n",
              "      <th>...</th>\n",
              "      <td>...</td>\n",
              "      <td>...</td>\n",
              "      <td>...</td>\n",
              "      <td>...</td>\n",
              "      <td>...</td>\n",
              "      <td>...</td>\n",
              "      <td>...</td>\n",
              "      <td>...</td>\n",
              "      <td>...</td>\n",
              "      <td>...</td>\n",
              "      <td>...</td>\n",
              "      <td>...</td>\n",
              "      <td>...</td>\n",
              "      <td>...</td>\n",
              "      <td>...</td>\n",
              "      <td>...</td>\n",
              "      <td>...</td>\n",
              "      <td>...</td>\n",
              "      <td>...</td>\n",
              "      <td>...</td>\n",
              "      <td>...</td>\n",
              "    </tr>\n",
              "    <tr>\n",
              "      <th>384482</th>\n",
              "      <td>299387</td>\n",
              "      <td>Đức Vân - Bắc Kạn</td>\n",
              "      <td>106.0331</td>\n",
              "      <td>22.44722</td>\n",
              "      <td>0.2</td>\n",
              "      <td>291.11400</td>\n",
              "      <td>-8.43219</td>\n",
              "      <td>-8.75628</td>\n",
              "      <td>-16.15290</td>\n",
              "      <td>-3.34800</td>\n",
              "      <td>...</td>\n",
              "      <td>263</td>\n",
              "      <td>1</td>\n",
              "      <td>0</td>\n",
              "      <td>0</td>\n",
              "      <td>1</td>\n",
              "      <td>1</td>\n",
              "      <td>1</td>\n",
              "      <td>0</td>\n",
              "      <td>0</td>\n",
              "      <td>1</td>\n",
              "    </tr>\n",
              "    <tr>\n",
              "      <th>62037</th>\n",
              "      <td>299387</td>\n",
              "      <td>Đức Vân - Bắc Kạn</td>\n",
              "      <td>106.0331</td>\n",
              "      <td>22.44722</td>\n",
              "      <td>0.2</td>\n",
              "      <td>259.61365</td>\n",
              "      <td>-5.37335</td>\n",
              "      <td>-3.78521</td>\n",
              "      <td>-5.07142</td>\n",
              "      <td>-1.41761</td>\n",
              "      <td>...</td>\n",
              "      <td>263</td>\n",
              "      <td>1</td>\n",
              "      <td>0</td>\n",
              "      <td>0</td>\n",
              "      <td>1</td>\n",
              "      <td>1</td>\n",
              "      <td>1</td>\n",
              "      <td>0</td>\n",
              "      <td>0</td>\n",
              "      <td>1</td>\n",
              "    </tr>\n",
              "    <tr>\n",
              "      <th>295513</th>\n",
              "      <td>299387</td>\n",
              "      <td>Đức Vân - Bắc Kạn</td>\n",
              "      <td>106.0331</td>\n",
              "      <td>22.44722</td>\n",
              "      <td>0.2</td>\n",
              "      <td>252.74902</td>\n",
              "      <td>-6.38220</td>\n",
              "      <td>-3.31433</td>\n",
              "      <td>-0.24457</td>\n",
              "      <td>-1.34900</td>\n",
              "      <td>...</td>\n",
              "      <td>263</td>\n",
              "      <td>1</td>\n",
              "      <td>0</td>\n",
              "      <td>0</td>\n",
              "      <td>1</td>\n",
              "      <td>1</td>\n",
              "      <td>1</td>\n",
              "      <td>0</td>\n",
              "      <td>0</td>\n",
              "      <td>1</td>\n",
              "    </tr>\n",
              "    <tr>\n",
              "      <th>299573</th>\n",
              "      <td>299387</td>\n",
              "      <td>Đức Vân - Bắc Kạn</td>\n",
              "      <td>106.0331</td>\n",
              "      <td>22.44722</td>\n",
              "      <td>0.2</td>\n",
              "      <td>254.68500</td>\n",
              "      <td>-6.28107</td>\n",
              "      <td>-2.16149</td>\n",
              "      <td>-1.33851</td>\n",
              "      <td>-2.56500</td>\n",
              "      <td>...</td>\n",
              "      <td>263</td>\n",
              "      <td>1</td>\n",
              "      <td>0</td>\n",
              "      <td>0</td>\n",
              "      <td>1</td>\n",
              "      <td>1</td>\n",
              "      <td>1</td>\n",
              "      <td>0</td>\n",
              "      <td>0</td>\n",
              "      <td>1</td>\n",
              "    </tr>\n",
              "    <tr>\n",
              "      <th>100091</th>\n",
              "      <td>299387</td>\n",
              "      <td>Đức Vân - Bắc Kạn</td>\n",
              "      <td>106.0331</td>\n",
              "      <td>22.44722</td>\n",
              "      <td>0.6</td>\n",
              "      <td>257.80505</td>\n",
              "      <td>-7.28107</td>\n",
              "      <td>-2.90429</td>\n",
              "      <td>-2.18970</td>\n",
              "      <td>-2.22503</td>\n",
              "      <td>...</td>\n",
              "      <td>263</td>\n",
              "      <td>1</td>\n",
              "      <td>0</td>\n",
              "      <td>0</td>\n",
              "      <td>1</td>\n",
              "      <td>1</td>\n",
              "      <td>1</td>\n",
              "      <td>0</td>\n",
              "      <td>0</td>\n",
              "      <td>1</td>\n",
              "    </tr>\n",
              "  </tbody>\n",
              "</table>\n",
              "<p>182058 rows × 22 columns</p>\n",
              "</div>\n",
              "      <button class=\"colab-df-convert\" onclick=\"convertToInteractive('df-46c34079-08bd-403c-bc8b-8d9e7d529ce1')\"\n",
              "              title=\"Convert this dataframe to an interactive table.\"\n",
              "              style=\"display:none;\">\n",
              "        \n",
              "  <svg xmlns=\"http://www.w3.org/2000/svg\" height=\"24px\"viewBox=\"0 0 24 24\"\n",
              "       width=\"24px\">\n",
              "    <path d=\"M0 0h24v24H0V0z\" fill=\"none\"/>\n",
              "    <path d=\"M18.56 5.44l.94 2.06.94-2.06 2.06-.94-2.06-.94-.94-2.06-.94 2.06-2.06.94zm-11 1L8.5 8.5l.94-2.06 2.06-.94-2.06-.94L8.5 2.5l-.94 2.06-2.06.94zm10 10l.94 2.06.94-2.06 2.06-.94-2.06-.94-.94-2.06-.94 2.06-2.06.94z\"/><path d=\"M17.41 7.96l-1.37-1.37c-.4-.4-.92-.59-1.43-.59-.52 0-1.04.2-1.43.59L10.3 9.45l-7.72 7.72c-.78.78-.78 2.05 0 2.83L4 21.41c.39.39.9.59 1.41.59.51 0 1.02-.2 1.41-.59l7.78-7.78 2.81-2.81c.8-.78.8-2.07 0-2.86zM5.41 20L4 18.59l7.72-7.72 1.47 1.35L5.41 20z\"/>\n",
              "  </svg>\n",
              "      </button>\n",
              "      \n",
              "  <style>\n",
              "    .colab-df-container {\n",
              "      display:flex;\n",
              "      flex-wrap:wrap;\n",
              "      gap: 12px;\n",
              "    }\n",
              "\n",
              "    .colab-df-convert {\n",
              "      background-color: #E8F0FE;\n",
              "      border: none;\n",
              "      border-radius: 50%;\n",
              "      cursor: pointer;\n",
              "      display: none;\n",
              "      fill: #1967D2;\n",
              "      height: 32px;\n",
              "      padding: 0 0 0 0;\n",
              "      width: 32px;\n",
              "    }\n",
              "\n",
              "    .colab-df-convert:hover {\n",
              "      background-color: #E2EBFA;\n",
              "      box-shadow: 0px 1px 2px rgba(60, 64, 67, 0.3), 0px 1px 3px 1px rgba(60, 64, 67, 0.15);\n",
              "      fill: #174EA6;\n",
              "    }\n",
              "\n",
              "    [theme=dark] .colab-df-convert {\n",
              "      background-color: #3B4455;\n",
              "      fill: #D2E3FC;\n",
              "    }\n",
              "\n",
              "    [theme=dark] .colab-df-convert:hover {\n",
              "      background-color: #434B5C;\n",
              "      box-shadow: 0px 1px 3px 1px rgba(0, 0, 0, 0.15);\n",
              "      filter: drop-shadow(0px 1px 2px rgba(0, 0, 0, 0.3));\n",
              "      fill: #FFFFFF;\n",
              "    }\n",
              "  </style>\n",
              "\n",
              "      <script>\n",
              "        const buttonEl =\n",
              "          document.querySelector('#df-46c34079-08bd-403c-bc8b-8d9e7d529ce1 button.colab-df-convert');\n",
              "        buttonEl.style.display =\n",
              "          google.colab.kernel.accessAllowed ? 'block' : 'none';\n",
              "\n",
              "        async function convertToInteractive(key) {\n",
              "          const element = document.querySelector('#df-46c34079-08bd-403c-bc8b-8d9e7d529ce1');\n",
              "          const dataTable =\n",
              "            await google.colab.kernel.invokeFunction('convertToInteractive',\n",
              "                                                     [key], {});\n",
              "          if (!dataTable) return;\n",
              "\n",
              "          const docLinkHtml = 'Like what you see? Visit the ' +\n",
              "            '<a target=\"_blank\" href=https://colab.research.google.com/notebooks/data_table.ipynb>data table notebook</a>'\n",
              "            + ' to learn more about interactive tables.';\n",
              "          element.innerHTML = '';\n",
              "          dataTable['output_type'] = 'display_data';\n",
              "          await google.colab.output.renderOutput(dataTable, element);\n",
              "          const docLink = document.createElement('div');\n",
              "          docLink.innerHTML = docLinkHtml;\n",
              "          element.appendChild(docLink);\n",
              "        }\n",
              "      </script>\n",
              "    </div>\n",
              "  </div>\n",
              "  "
            ]
          },
          "metadata": {},
          "execution_count": 1054
        }
      ],
      "source": [
        "data_train"
      ]
    },
    {
      "cell_type": "code",
      "source": [
        "data_test"
      ],
      "metadata": {
        "id": "RP1vB3QC63VY",
        "outputId": "e29d2443-9b4d-45c4-dee9-b49f4983f610",
        "colab": {
          "base_uri": "https://localhost:8080/",
          "height": 661
        }
      },
      "execution_count": null,
      "outputs": [
        {
          "output_type": "execute_result",
          "data": {
            "text/plain": [
              "         Name         id       lon       lat  value  irb_value   wvb_b09  \\\n",
              "42104  356642     A Bung  107.0261  16.36830   21.2  265.90723  -5.59662   \n",
              "6659   356642     A Bung  107.0261  16.36830   23.8  254.68500  -4.92994   \n",
              "56566  356642     A Bung  107.0261  16.36830   20.0  259.61365  -4.92994   \n",
              "52297  356642     A Bung  107.0261  16.36830   19.8  282.84497  -6.53210   \n",
              "54297  356642     A Bung  107.0261  16.36830   30.0  282.84497  -6.88428   \n",
              "...       ...        ...       ...       ...    ...        ...       ...   \n",
              "53624  630250  Đức Thông  106.2797  22.47917    0.2  274.28003 -12.06714   \n",
              "49130  630250  Đức Thông  106.2797  22.47917    0.2  260.79540  -8.93762   \n",
              "31377  630250  Đức Thông  106.2797  22.47917    0.2  260.20996  -9.16999   \n",
              "21958  630250  Đức Thông  106.2797  22.47917    0.2  260.79540  -9.43219   \n",
              "55207  630250  Đức Thông  106.2797  22.47917    0.2  263.68000  -9.24500   \n",
              "\n",
              "       b09_b10   b10_b16  b11_irb  ...  date  bit_day1  bit_day2  bit_day3  \\\n",
              "42104 -3.90429  -5.34974 -2.21363  ...   302         1         1         1   \n",
              "6659  -0.33715  -1.17176 -2.56500  ...   302         1         1         1   \n",
              "56566 -1.26434  -2.88971 -2.06165  ...   302         1         1         1   \n",
              "52297 -6.61286 -12.09729 -2.35071  ...   302         1         1         1   \n",
              "54297 -6.80194 -13.40741 -2.35071  ...   302         1         1         1   \n",
              "...        ...       ...      ...  ...   ...       ...       ...       ...   \n",
              "53624 -8.81288  -4.77000 -1.90003  ...   303         1         1         1   \n",
              "49130 -4.43945  -1.60822 -1.33140  ...   304         1         1         1   \n",
              "31377 -5.58129  -1.79273 -0.74596  ...   304         1         1         1   \n",
              "21958 -5.39379  -1.60822 -1.33140  ...   304         1         1         1   \n",
              "55207 -7.87127  -4.50776 -1.16730  ...   305         1         1         1   \n",
              "\n",
              "       bit_day4  bit_day5  bit_month1  bit_month2  bit_month3  bit_month4  \n",
              "42104         0         0           1           0           1           0  \n",
              "6659          0         0           1           0           1           0  \n",
              "56566         0         0           1           0           1           0  \n",
              "52297         0         0           1           0           1           0  \n",
              "54297         0         0           1           0           1           0  \n",
              "...         ...       ...         ...         ...         ...         ...  \n",
              "53624         0         1           1           0           1           0  \n",
              "49130         1         0           1           0           1           0  \n",
              "31377         1         0           1           0           1           0  \n",
              "21958         1         0           1           0           1           0  \n",
              "55207         1         1           1           0           1           0  \n",
              "\n",
              "[31120 rows x 22 columns]"
            ],
            "text/html": [
              "\n",
              "  <div id=\"df-8f16efb7-d9ae-4aa1-83ec-3f73c349fb00\">\n",
              "    <div class=\"colab-df-container\">\n",
              "      <div>\n",
              "<style scoped>\n",
              "    .dataframe tbody tr th:only-of-type {\n",
              "        vertical-align: middle;\n",
              "    }\n",
              "\n",
              "    .dataframe tbody tr th {\n",
              "        vertical-align: top;\n",
              "    }\n",
              "\n",
              "    .dataframe thead th {\n",
              "        text-align: right;\n",
              "    }\n",
              "</style>\n",
              "<table border=\"1\" class=\"dataframe\">\n",
              "  <thead>\n",
              "    <tr style=\"text-align: right;\">\n",
              "      <th></th>\n",
              "      <th>Name</th>\n",
              "      <th>id</th>\n",
              "      <th>lon</th>\n",
              "      <th>lat</th>\n",
              "      <th>value</th>\n",
              "      <th>irb_value</th>\n",
              "      <th>wvb_b09</th>\n",
              "      <th>b09_b10</th>\n",
              "      <th>b10_b16</th>\n",
              "      <th>b11_irb</th>\n",
              "      <th>...</th>\n",
              "      <th>date</th>\n",
              "      <th>bit_day1</th>\n",
              "      <th>bit_day2</th>\n",
              "      <th>bit_day3</th>\n",
              "      <th>bit_day4</th>\n",
              "      <th>bit_day5</th>\n",
              "      <th>bit_month1</th>\n",
              "      <th>bit_month2</th>\n",
              "      <th>bit_month3</th>\n",
              "      <th>bit_month4</th>\n",
              "    </tr>\n",
              "  </thead>\n",
              "  <tbody>\n",
              "    <tr>\n",
              "      <th>42104</th>\n",
              "      <td>356642</td>\n",
              "      <td>A Bung</td>\n",
              "      <td>107.0261</td>\n",
              "      <td>16.36830</td>\n",
              "      <td>21.2</td>\n",
              "      <td>265.90723</td>\n",
              "      <td>-5.59662</td>\n",
              "      <td>-3.90429</td>\n",
              "      <td>-5.34974</td>\n",
              "      <td>-2.21363</td>\n",
              "      <td>...</td>\n",
              "      <td>302</td>\n",
              "      <td>1</td>\n",
              "      <td>1</td>\n",
              "      <td>1</td>\n",
              "      <td>0</td>\n",
              "      <td>0</td>\n",
              "      <td>1</td>\n",
              "      <td>0</td>\n",
              "      <td>1</td>\n",
              "      <td>0</td>\n",
              "    </tr>\n",
              "    <tr>\n",
              "      <th>6659</th>\n",
              "      <td>356642</td>\n",
              "      <td>A Bung</td>\n",
              "      <td>107.0261</td>\n",
              "      <td>16.36830</td>\n",
              "      <td>23.8</td>\n",
              "      <td>254.68500</td>\n",
              "      <td>-4.92994</td>\n",
              "      <td>-0.33715</td>\n",
              "      <td>-1.17176</td>\n",
              "      <td>-2.56500</td>\n",
              "      <td>...</td>\n",
              "      <td>302</td>\n",
              "      <td>1</td>\n",
              "      <td>1</td>\n",
              "      <td>1</td>\n",
              "      <td>0</td>\n",
              "      <td>0</td>\n",
              "      <td>1</td>\n",
              "      <td>0</td>\n",
              "      <td>1</td>\n",
              "      <td>0</td>\n",
              "    </tr>\n",
              "    <tr>\n",
              "      <th>56566</th>\n",
              "      <td>356642</td>\n",
              "      <td>A Bung</td>\n",
              "      <td>107.0261</td>\n",
              "      <td>16.36830</td>\n",
              "      <td>20.0</td>\n",
              "      <td>259.61365</td>\n",
              "      <td>-4.92994</td>\n",
              "      <td>-1.26434</td>\n",
              "      <td>-2.88971</td>\n",
              "      <td>-2.06165</td>\n",
              "      <td>...</td>\n",
              "      <td>302</td>\n",
              "      <td>1</td>\n",
              "      <td>1</td>\n",
              "      <td>1</td>\n",
              "      <td>0</td>\n",
              "      <td>0</td>\n",
              "      <td>1</td>\n",
              "      <td>0</td>\n",
              "      <td>1</td>\n",
              "      <td>0</td>\n",
              "    </tr>\n",
              "    <tr>\n",
              "      <th>52297</th>\n",
              "      <td>356642</td>\n",
              "      <td>A Bung</td>\n",
              "      <td>107.0261</td>\n",
              "      <td>16.36830</td>\n",
              "      <td>19.8</td>\n",
              "      <td>282.84497</td>\n",
              "      <td>-6.53210</td>\n",
              "      <td>-6.61286</td>\n",
              "      <td>-12.09729</td>\n",
              "      <td>-2.35071</td>\n",
              "      <td>...</td>\n",
              "      <td>302</td>\n",
              "      <td>1</td>\n",
              "      <td>1</td>\n",
              "      <td>1</td>\n",
              "      <td>0</td>\n",
              "      <td>0</td>\n",
              "      <td>1</td>\n",
              "      <td>0</td>\n",
              "      <td>1</td>\n",
              "      <td>0</td>\n",
              "    </tr>\n",
              "    <tr>\n",
              "      <th>54297</th>\n",
              "      <td>356642</td>\n",
              "      <td>A Bung</td>\n",
              "      <td>107.0261</td>\n",
              "      <td>16.36830</td>\n",
              "      <td>30.0</td>\n",
              "      <td>282.84497</td>\n",
              "      <td>-6.88428</td>\n",
              "      <td>-6.80194</td>\n",
              "      <td>-13.40741</td>\n",
              "      <td>-2.35071</td>\n",
              "      <td>...</td>\n",
              "      <td>302</td>\n",
              "      <td>1</td>\n",
              "      <td>1</td>\n",
              "      <td>1</td>\n",
              "      <td>0</td>\n",
              "      <td>0</td>\n",
              "      <td>1</td>\n",
              "      <td>0</td>\n",
              "      <td>1</td>\n",
              "      <td>0</td>\n",
              "    </tr>\n",
              "    <tr>\n",
              "      <th>...</th>\n",
              "      <td>...</td>\n",
              "      <td>...</td>\n",
              "      <td>...</td>\n",
              "      <td>...</td>\n",
              "      <td>...</td>\n",
              "      <td>...</td>\n",
              "      <td>...</td>\n",
              "      <td>...</td>\n",
              "      <td>...</td>\n",
              "      <td>...</td>\n",
              "      <td>...</td>\n",
              "      <td>...</td>\n",
              "      <td>...</td>\n",
              "      <td>...</td>\n",
              "      <td>...</td>\n",
              "      <td>...</td>\n",
              "      <td>...</td>\n",
              "      <td>...</td>\n",
              "      <td>...</td>\n",
              "      <td>...</td>\n",
              "      <td>...</td>\n",
              "    </tr>\n",
              "    <tr>\n",
              "      <th>53624</th>\n",
              "      <td>630250</td>\n",
              "      <td>Đức Thông</td>\n",
              "      <td>106.2797</td>\n",
              "      <td>22.47917</td>\n",
              "      <td>0.2</td>\n",
              "      <td>274.28003</td>\n",
              "      <td>-12.06714</td>\n",
              "      <td>-8.81288</td>\n",
              "      <td>-4.77000</td>\n",
              "      <td>-1.90003</td>\n",
              "      <td>...</td>\n",
              "      <td>303</td>\n",
              "      <td>1</td>\n",
              "      <td>1</td>\n",
              "      <td>1</td>\n",
              "      <td>0</td>\n",
              "      <td>1</td>\n",
              "      <td>1</td>\n",
              "      <td>0</td>\n",
              "      <td>1</td>\n",
              "      <td>0</td>\n",
              "    </tr>\n",
              "    <tr>\n",
              "      <th>49130</th>\n",
              "      <td>630250</td>\n",
              "      <td>Đức Thông</td>\n",
              "      <td>106.2797</td>\n",
              "      <td>22.47917</td>\n",
              "      <td>0.2</td>\n",
              "      <td>260.79540</td>\n",
              "      <td>-8.93762</td>\n",
              "      <td>-4.43945</td>\n",
              "      <td>-1.60822</td>\n",
              "      <td>-1.33140</td>\n",
              "      <td>...</td>\n",
              "      <td>304</td>\n",
              "      <td>1</td>\n",
              "      <td>1</td>\n",
              "      <td>1</td>\n",
              "      <td>1</td>\n",
              "      <td>0</td>\n",
              "      <td>1</td>\n",
              "      <td>0</td>\n",
              "      <td>1</td>\n",
              "      <td>0</td>\n",
              "    </tr>\n",
              "    <tr>\n",
              "      <th>31377</th>\n",
              "      <td>630250</td>\n",
              "      <td>Đức Thông</td>\n",
              "      <td>106.2797</td>\n",
              "      <td>22.47917</td>\n",
              "      <td>0.2</td>\n",
              "      <td>260.20996</td>\n",
              "      <td>-9.16999</td>\n",
              "      <td>-5.58129</td>\n",
              "      <td>-1.79273</td>\n",
              "      <td>-0.74596</td>\n",
              "      <td>...</td>\n",
              "      <td>304</td>\n",
              "      <td>1</td>\n",
              "      <td>1</td>\n",
              "      <td>1</td>\n",
              "      <td>1</td>\n",
              "      <td>0</td>\n",
              "      <td>1</td>\n",
              "      <td>0</td>\n",
              "      <td>1</td>\n",
              "      <td>0</td>\n",
              "    </tr>\n",
              "    <tr>\n",
              "      <th>21958</th>\n",
              "      <td>630250</td>\n",
              "      <td>Đức Thông</td>\n",
              "      <td>106.2797</td>\n",
              "      <td>22.47917</td>\n",
              "      <td>0.2</td>\n",
              "      <td>260.79540</td>\n",
              "      <td>-9.43219</td>\n",
              "      <td>-5.39379</td>\n",
              "      <td>-1.60822</td>\n",
              "      <td>-1.33140</td>\n",
              "      <td>...</td>\n",
              "      <td>304</td>\n",
              "      <td>1</td>\n",
              "      <td>1</td>\n",
              "      <td>1</td>\n",
              "      <td>1</td>\n",
              "      <td>0</td>\n",
              "      <td>1</td>\n",
              "      <td>0</td>\n",
              "      <td>1</td>\n",
              "      <td>0</td>\n",
              "    </tr>\n",
              "    <tr>\n",
              "      <th>55207</th>\n",
              "      <td>630250</td>\n",
              "      <td>Đức Thông</td>\n",
              "      <td>106.2797</td>\n",
              "      <td>22.47917</td>\n",
              "      <td>0.2</td>\n",
              "      <td>263.68000</td>\n",
              "      <td>-9.24500</td>\n",
              "      <td>-7.87127</td>\n",
              "      <td>-4.50776</td>\n",
              "      <td>-1.16730</td>\n",
              "      <td>...</td>\n",
              "      <td>305</td>\n",
              "      <td>1</td>\n",
              "      <td>1</td>\n",
              "      <td>1</td>\n",
              "      <td>1</td>\n",
              "      <td>1</td>\n",
              "      <td>1</td>\n",
              "      <td>0</td>\n",
              "      <td>1</td>\n",
              "      <td>0</td>\n",
              "    </tr>\n",
              "  </tbody>\n",
              "</table>\n",
              "<p>31120 rows × 22 columns</p>\n",
              "</div>\n",
              "      <button class=\"colab-df-convert\" onclick=\"convertToInteractive('df-8f16efb7-d9ae-4aa1-83ec-3f73c349fb00')\"\n",
              "              title=\"Convert this dataframe to an interactive table.\"\n",
              "              style=\"display:none;\">\n",
              "        \n",
              "  <svg xmlns=\"http://www.w3.org/2000/svg\" height=\"24px\"viewBox=\"0 0 24 24\"\n",
              "       width=\"24px\">\n",
              "    <path d=\"M0 0h24v24H0V0z\" fill=\"none\"/>\n",
              "    <path d=\"M18.56 5.44l.94 2.06.94-2.06 2.06-.94-2.06-.94-.94-2.06-.94 2.06-2.06.94zm-11 1L8.5 8.5l.94-2.06 2.06-.94-2.06-.94L8.5 2.5l-.94 2.06-2.06.94zm10 10l.94 2.06.94-2.06 2.06-.94-2.06-.94-.94-2.06-.94 2.06-2.06.94z\"/><path d=\"M17.41 7.96l-1.37-1.37c-.4-.4-.92-.59-1.43-.59-.52 0-1.04.2-1.43.59L10.3 9.45l-7.72 7.72c-.78.78-.78 2.05 0 2.83L4 21.41c.39.39.9.59 1.41.59.51 0 1.02-.2 1.41-.59l7.78-7.78 2.81-2.81c.8-.78.8-2.07 0-2.86zM5.41 20L4 18.59l7.72-7.72 1.47 1.35L5.41 20z\"/>\n",
              "  </svg>\n",
              "      </button>\n",
              "      \n",
              "  <style>\n",
              "    .colab-df-container {\n",
              "      display:flex;\n",
              "      flex-wrap:wrap;\n",
              "      gap: 12px;\n",
              "    }\n",
              "\n",
              "    .colab-df-convert {\n",
              "      background-color: #E8F0FE;\n",
              "      border: none;\n",
              "      border-radius: 50%;\n",
              "      cursor: pointer;\n",
              "      display: none;\n",
              "      fill: #1967D2;\n",
              "      height: 32px;\n",
              "      padding: 0 0 0 0;\n",
              "      width: 32px;\n",
              "    }\n",
              "\n",
              "    .colab-df-convert:hover {\n",
              "      background-color: #E2EBFA;\n",
              "      box-shadow: 0px 1px 2px rgba(60, 64, 67, 0.3), 0px 1px 3px 1px rgba(60, 64, 67, 0.15);\n",
              "      fill: #174EA6;\n",
              "    }\n",
              "\n",
              "    [theme=dark] .colab-df-convert {\n",
              "      background-color: #3B4455;\n",
              "      fill: #D2E3FC;\n",
              "    }\n",
              "\n",
              "    [theme=dark] .colab-df-convert:hover {\n",
              "      background-color: #434B5C;\n",
              "      box-shadow: 0px 1px 3px 1px rgba(0, 0, 0, 0.15);\n",
              "      filter: drop-shadow(0px 1px 2px rgba(0, 0, 0, 0.3));\n",
              "      fill: #FFFFFF;\n",
              "    }\n",
              "  </style>\n",
              "\n",
              "      <script>\n",
              "        const buttonEl =\n",
              "          document.querySelector('#df-8f16efb7-d9ae-4aa1-83ec-3f73c349fb00 button.colab-df-convert');\n",
              "        buttonEl.style.display =\n",
              "          google.colab.kernel.accessAllowed ? 'block' : 'none';\n",
              "\n",
              "        async function convertToInteractive(key) {\n",
              "          const element = document.querySelector('#df-8f16efb7-d9ae-4aa1-83ec-3f73c349fb00');\n",
              "          const dataTable =\n",
              "            await google.colab.kernel.invokeFunction('convertToInteractive',\n",
              "                                                     [key], {});\n",
              "          if (!dataTable) return;\n",
              "\n",
              "          const docLinkHtml = 'Like what you see? Visit the ' +\n",
              "            '<a target=\"_blank\" href=https://colab.research.google.com/notebooks/data_table.ipynb>data table notebook</a>'\n",
              "            + ' to learn more about interactive tables.';\n",
              "          element.innerHTML = '';\n",
              "          dataTable['output_type'] = 'display_data';\n",
              "          await google.colab.output.renderOutput(dataTable, element);\n",
              "          const docLink = document.createElement('div');\n",
              "          docLink.innerHTML = docLinkHtml;\n",
              "          element.appendChild(docLink);\n",
              "        }\n",
              "      </script>\n",
              "    </div>\n",
              "  </div>\n",
              "  "
            ]
          },
          "metadata": {},
          "execution_count": 1055
        }
      ]
    },
    {
      "cell_type": "code",
      "execution_count": null,
      "metadata": {
        "id": "axQiAUTS968b"
      },
      "outputs": [],
      "source": [
        "data_train = data_train.reset_index(drop = True)"
      ]
    },
    {
      "cell_type": "code",
      "execution_count": null,
      "metadata": {
        "id": "AT7-AkaiOwtb"
      },
      "outputs": [],
      "source": [
        "data_test = data_test.reset_index(drop = True)"
      ]
    },
    {
      "cell_type": "code",
      "execution_count": null,
      "metadata": {
        "id": "9VgZ6nR775u-"
      },
      "outputs": [],
      "source": [
        "data_train['strong'] = data_train['value'].apply(lambda x: 1 if x >= 2 else 0)"
      ]
    },
    {
      "cell_type": "code",
      "execution_count": null,
      "metadata": {
        "id": "Vp_RxwArO1AK"
      },
      "outputs": [],
      "source": [
        "data_test['strong'] = data_test['value'].apply(lambda x: 1 if x >= 2 else 0)"
      ]
    },
    {
      "cell_type": "code",
      "execution_count": null,
      "metadata": {
        "id": "r_NtT7yE8WXa",
        "colab": {
          "base_uri": "https://localhost:8080/"
        },
        "outputId": "6b40f2b5-5a4f-4038-e96a-7aac0c35901c"
      },
      "outputs": [
        {
          "output_type": "execute_result",
          "data": {
            "text/plain": [
              "0    117802\n",
              "1     64256\n",
              "Name: strong, dtype: int64"
            ]
          },
          "metadata": {},
          "execution_count": 1060
        }
      ],
      "source": [
        "data_train['strong'].value_counts()"
      ]
    },
    {
      "cell_type": "code",
      "execution_count": null,
      "metadata": {
        "id": "SmHXUnoIA8bi",
        "colab": {
          "base_uri": "https://localhost:8080/"
        },
        "outputId": "0462b93e-7a53-4d19-ee49-2b4cebe1a234"
      },
      "outputs": [
        {
          "output_type": "execute_result",
          "data": {
            "text/plain": [
              "(182058, 23)"
            ]
          },
          "metadata": {},
          "execution_count": 1061
        }
      ],
      "source": [
        "data_train.shape"
      ]
    },
    {
      "cell_type": "code",
      "source": [
        "data_test.shape"
      ],
      "metadata": {
        "colab": {
          "base_uri": "https://localhost:8080/"
        },
        "id": "4oHwcI9u5kSf",
        "outputId": "531c5f74-192f-4343-99ae-9ac4ead85336"
      },
      "execution_count": null,
      "outputs": [
        {
          "output_type": "execute_result",
          "data": {
            "text/plain": [
              "(31120, 23)"
            ]
          },
          "metadata": {},
          "execution_count": 1062
        }
      ]
    },
    {
      "cell_type": "code",
      "execution_count": null,
      "metadata": {
        "id": "p4LUu5vOGaF8"
      },
      "outputs": [],
      "source": [
        "# from sklearn.preprocessing import MinMaxScaler\n",
        "# scaler = MinMaxScaler()\n",
        "# data_train[['irb_value']] = scaler.fit_transform(data_train[['irb_value']])\n",
        "# data_train[['b10_b16']] = scaler.fit_transform(data_train[['b10_b16']])\n",
        "# data_train[['b11_irb']] = scaler.fit_transform(data_train[['b11_irb']])\n",
        "# data_train[['irb_i2b']] = scaler.fit_transform(data_train[['irb_i2b']])\n",
        "# data_train[['wvb_b09']] = scaler.fit_transform(data_train[['wvb_b09']])\n",
        "# data_train[['b09_b10']] = scaler.fit_transform(data_train[['b09_b10']])\n",
        "# data_train[['lon']] = scaler.fit_transform(data_train[['lon']])\n",
        "# data_train[['lat']] = scaler.fit_transform(data_train[['lat']])\n",
        "# data_train[['hour']] = scaler.fit_transform(data_train[['hour']])\n",
        "# data_train[['date']] = scaler.fit_transform(data_train[['date']])"
      ]
    },
    {
      "cell_type": "code",
      "execution_count": null,
      "metadata": {
        "id": "Zt8nW03HO9pT"
      },
      "outputs": [],
      "source": [
        "# data_test[['irb_value']] = scaler.fit_transform(data_test[['irb_value']])\n",
        "# data_test[['b10_b16']] = scaler.fit_transform(data_test[['b10_b16']])\n",
        "# data_test[['b11_irb']] = scaler.fit_transform(data_test[['b11_irb']])\n",
        "# data_test[['irb_i2b']] = scaler.fit_transform(data_test[['irb_i2b']])\n",
        "# data_test[['wvb_b09']] = scaler.fit_transform(data_test[['wvb_b09']])\n",
        "# data_test[['b09_b10']] = scaler.fit_transform(data_test[['b09_b10']])\n",
        "# data_test[['lon']] = scaler.fit_transform(data_test[['lon']])\n",
        "# data_test[['lat']] = scaler.fit_transform(data_test[['lat']])\n",
        "# data_test[['hour']] = scaler.fit_transform(data_test[['hour']])\n",
        "# data_test[['date']] = scaler.fit_transform(data_test[['date']])"
      ]
    },
    {
      "cell_type": "code",
      "execution_count": null,
      "metadata": {
        "id": "PloDkgLUIY1L"
      },
      "outputs": [],
      "source": [
        "\n",
        "input_train = []\n",
        "output_train = []\n",
        "no_of_sample = len(data_train)\n",
        "WINDOW_SIZE = 3 # 3 gio\n",
        "for i in range(no_of_sample - WINDOW_SIZE + 1):\n",
        "  next_idx = i + WINDOW_SIZE - 1\n",
        "  if(data_train['hour'][next_idx] == (data_train['hour'][i] + WINDOW_SIZE - 1) % 24 and data_train['hour'][next_idx - 1] == (data_train['hour'][i] + WINDOW_SIZE - 2) and data_train['lat'][next_idx] == data_train['lat'][i] ):\n",
        "    X = data_train.loc[i:i + WINDOW_SIZE - 1]\n",
        "    X = X.drop(columns = ['hour', 'lat', 'value','lon', 'date', 'Name', 'id','strong'])\n",
        "    X.to_numpy()\n",
        "    input_train.append(X)\n",
        "    output_train.append(data_train['strong'][i+WINDOW_SIZE - 1])\n",
        "\n"
      ]
    },
    {
      "cell_type": "code",
      "execution_count": null,
      "metadata": {
        "id": "OvEdMjQcPKA8"
      },
      "outputs": [],
      "source": [
        "input_test = []\n",
        "output_test = []\n",
        "no_of_sample = len(data_test)\n",
        "WINDOW_SIZE = 3 # 3 gio\n",
        "for i in range(no_of_sample - WINDOW_SIZE + 1):\n",
        "  next_idx = i + WINDOW_SIZE - 1\n",
        "  if(data_test['hour'][next_idx] == (data_test['hour'][i] + WINDOW_SIZE - 1) % 24 and data_test['hour'][next_idx - 1] == (data_test['hour'][i] + WINDOW_SIZE - 2) and data_test['lat'][next_idx] == data_test['lat'][i] ):\n",
        "    X = data_test.loc[i:i + WINDOW_SIZE - 1]\n",
        "    X = X.drop(columns = ['hour', 'lat', 'value','lon', 'date', 'Name', 'id','strong'])\n",
        "    X.to_numpy()\n",
        "    input_test.append(X)\n",
        "    output_test.append(data_test['strong'][i+WINDOW_SIZE - 1])"
      ]
    },
    {
      "cell_type": "code",
      "execution_count": null,
      "metadata": {
        "id": "FIhXV9wUSqJq"
      },
      "outputs": [],
      "source": [
        "X_train = np.array(input_train)"
      ]
    },
    {
      "cell_type": "code",
      "execution_count": null,
      "metadata": {
        "id": "yFf-_LhbFHE-"
      },
      "outputs": [],
      "source": [
        "y_train = np.array(output_train)"
      ]
    },
    {
      "cell_type": "code",
      "execution_count": null,
      "metadata": {
        "id": "6yBrzNWOSz_1"
      },
      "outputs": [],
      "source": [
        "X_test = np.array(input_test)"
      ]
    },
    {
      "cell_type": "code",
      "execution_count": null,
      "metadata": {
        "id": "WcedPHDyFQQA"
      },
      "outputs": [],
      "source": [
        "y_test = np.array(output_test)"
      ]
    },
    {
      "cell_type": "code",
      "source": [],
      "metadata": {
        "id": "bs3LZDvus0oS"
      },
      "execution_count": null,
      "outputs": []
    },
    {
      "cell_type": "code",
      "execution_count": null,
      "metadata": {
        "id": "iYbT4XbDN8dL",
        "colab": {
          "base_uri": "https://localhost:8080/"
        },
        "outputId": "d3f30fa9-d9ce-47b6-d798-613d0662945f"
      },
      "outputs": [
        {
          "output_type": "execute_result",
          "data": {
            "text/plain": [
              "(65144, 3, 15)"
            ]
          },
          "metadata": {},
          "execution_count": 1071
        }
      ],
      "source": [
        "X_train.shape"
      ]
    },
    {
      "cell_type": "code",
      "source": [
        "X_test.shape"
      ],
      "metadata": {
        "id": "Zy_y9lhMX8zw",
        "colab": {
          "base_uri": "https://localhost:8080/"
        },
        "outputId": "fb46969a-5d3d-45f3-a2d1-6ad5f0645da4"
      },
      "execution_count": null,
      "outputs": [
        {
          "output_type": "execute_result",
          "data": {
            "text/plain": [
              "(15277, 3, 15)"
            ]
          },
          "metadata": {},
          "execution_count": 1072
        }
      ]
    },
    {
      "cell_type": "markdown",
      "metadata": {
        "id": "odyGme4XaISU"
      },
      "source": []
    },
    {
      "cell_type": "code",
      "execution_count": null,
      "metadata": {
        "id": "3rXISCzN9AIt"
      },
      "outputs": [],
      "source": [
        "#model\n",
        "regressor = Sequential()\n",
        "regressor.add(LSTM(units = 32, input_shape = (X_train.shape[1], X_train.shape[2])))\n",
        "regressor.add(Dense(units = 1, activation = 'sigmoid'))\n",
        "regressor.compile(optimizer = 'adam', loss = 'binary_crossentropy', metrics=['acc', f1_m])"
      ]
    },
    {
      "cell_type": "code",
      "execution_count": null,
      "metadata": {
        "id": "n7XlSPaA9Vvq",
        "colab": {
          "base_uri": "https://localhost:8080/"
        },
        "outputId": "084b5eb8-2fe2-45b9-b58c-d1eeca1807f5"
      },
      "outputs": [
        {
          "output_type": "stream",
          "name": "stdout",
          "text": [
            "Epoch 1/64\n",
            "255/255 [==============================] - 4s 6ms/step - loss: 0.6775 - acc: 0.5848 - f1_m: 0.0239\n",
            "Epoch 2/64\n",
            "255/255 [==============================] - 2s 6ms/step - loss: 0.6744 - acc: 0.5889 - f1_m: 0.0097\n",
            "Epoch 3/64\n",
            "255/255 [==============================] - 2s 6ms/step - loss: 0.6730 - acc: 0.5890 - f1_m: 0.0108\n",
            "Epoch 4/64\n",
            "255/255 [==============================] - 2s 6ms/step - loss: 0.6720 - acc: 0.5891 - f1_m: 0.0125\n",
            "Epoch 5/64\n",
            "255/255 [==============================] - 2s 6ms/step - loss: 0.6709 - acc: 0.5890 - f1_m: 0.0104\n",
            "Epoch 6/64\n",
            "255/255 [==============================] - 2s 6ms/step - loss: 0.6695 - acc: 0.5886 - f1_m: 0.0080\n",
            "Epoch 7/64\n",
            "255/255 [==============================] - 2s 6ms/step - loss: 0.6685 - acc: 0.5890 - f1_m: 0.0200\n",
            "Epoch 8/64\n",
            "255/255 [==============================] - 2s 6ms/step - loss: 0.6674 - acc: 0.5893 - f1_m: 0.0169\n",
            "Epoch 9/64\n",
            "255/255 [==============================] - 1s 5ms/step - loss: 0.6673 - acc: 0.5892 - f1_m: 0.0154\n",
            "Epoch 10/64\n",
            "255/255 [==============================] - 1s 5ms/step - loss: 0.6663 - acc: 0.5885 - f1_m: 0.0334\n",
            "Epoch 11/64\n",
            "255/255 [==============================] - 1s 4ms/step - loss: 0.6659 - acc: 0.5866 - f1_m: 0.0423\n",
            "Epoch 12/64\n",
            "255/255 [==============================] - 1s 4ms/step - loss: 0.6656 - acc: 0.5860 - f1_m: 0.0548\n",
            "Epoch 13/64\n",
            "255/255 [==============================] - 1s 4ms/step - loss: 0.6646 - acc: 0.5860 - f1_m: 0.0877\n",
            "Epoch 14/64\n",
            "255/255 [==============================] - 1s 4ms/step - loss: 0.6641 - acc: 0.5850 - f1_m: 0.1138\n",
            "Epoch 15/64\n",
            "255/255 [==============================] - 1s 4ms/step - loss: 0.6641 - acc: 0.5862 - f1_m: 0.1272\n",
            "Epoch 16/64\n",
            "255/255 [==============================] - 1s 6ms/step - loss: 0.6627 - acc: 0.5849 - f1_m: 0.1450\n",
            "Epoch 17/64\n",
            "255/255 [==============================] - 2s 7ms/step - loss: 0.6627 - acc: 0.5865 - f1_m: 0.1621\n",
            "Epoch 18/64\n",
            "255/255 [==============================] - 2s 7ms/step - loss: 0.6618 - acc: 0.5865 - f1_m: 0.1836\n",
            "Epoch 19/64\n",
            "255/255 [==============================] - 2s 6ms/step - loss: 0.6612 - acc: 0.5865 - f1_m: 0.1987\n",
            "Epoch 20/64\n",
            "255/255 [==============================] - 2s 7ms/step - loss: 0.6608 - acc: 0.5881 - f1_m: 0.2120\n",
            "Epoch 21/64\n",
            "255/255 [==============================] - 2s 7ms/step - loss: 0.6607 - acc: 0.5899 - f1_m: 0.2144\n",
            "Epoch 22/64\n",
            "255/255 [==============================] - 2s 6ms/step - loss: 0.6597 - acc: 0.5922 - f1_m: 0.2291\n",
            "Epoch 23/64\n",
            "255/255 [==============================] - 2s 7ms/step - loss: 0.6590 - acc: 0.5916 - f1_m: 0.2481\n",
            "Epoch 24/64\n",
            "255/255 [==============================] - 2s 6ms/step - loss: 0.6586 - acc: 0.5944 - f1_m: 0.2572\n",
            "Epoch 25/64\n",
            "255/255 [==============================] - 2s 7ms/step - loss: 0.6586 - acc: 0.5962 - f1_m: 0.2655\n",
            "Epoch 26/64\n",
            "255/255 [==============================] - 2s 7ms/step - loss: 0.6576 - acc: 0.5977 - f1_m: 0.2801\n",
            "Epoch 27/64\n",
            "255/255 [==============================] - 2s 6ms/step - loss: 0.6573 - acc: 0.5978 - f1_m: 0.2818\n",
            "Epoch 28/64\n",
            "255/255 [==============================] - 2s 6ms/step - loss: 0.6567 - acc: 0.6005 - f1_m: 0.3089\n",
            "Epoch 29/64\n",
            "255/255 [==============================] - 2s 7ms/step - loss: 0.6560 - acc: 0.6019 - f1_m: 0.3001\n",
            "Epoch 30/64\n",
            "255/255 [==============================] - 2s 6ms/step - loss: 0.6562 - acc: 0.6032 - f1_m: 0.3144\n",
            "Epoch 31/64\n",
            "255/255 [==============================] - 2s 6ms/step - loss: 0.6557 - acc: 0.6045 - f1_m: 0.3206\n",
            "Epoch 32/64\n",
            "255/255 [==============================] - 2s 6ms/step - loss: 0.6557 - acc: 0.6083 - f1_m: 0.3329\n",
            "Epoch 33/64\n",
            "255/255 [==============================] - 2s 6ms/step - loss: 0.6546 - acc: 0.6071 - f1_m: 0.3359\n",
            "Epoch 34/64\n",
            "255/255 [==============================] - 2s 6ms/step - loss: 0.6552 - acc: 0.6072 - f1_m: 0.3364\n",
            "Epoch 35/64\n",
            "255/255 [==============================] - 2s 6ms/step - loss: 0.6540 - acc: 0.6100 - f1_m: 0.3487\n",
            "Epoch 36/64\n",
            "255/255 [==============================] - 2s 6ms/step - loss: 0.6543 - acc: 0.6098 - f1_m: 0.3496\n",
            "Epoch 37/64\n",
            "255/255 [==============================] - 2s 6ms/step - loss: 0.6540 - acc: 0.6109 - f1_m: 0.3523\n",
            "Epoch 38/64\n",
            "255/255 [==============================] - 2s 6ms/step - loss: 0.6540 - acc: 0.6098 - f1_m: 0.3466\n",
            "Epoch 39/64\n",
            "255/255 [==============================] - 2s 6ms/step - loss: 0.6527 - acc: 0.6137 - f1_m: 0.3560\n",
            "Epoch 40/64\n",
            "255/255 [==============================] - 2s 6ms/step - loss: 0.6521 - acc: 0.6152 - f1_m: 0.3706\n",
            "Epoch 41/64\n",
            "255/255 [==============================] - 2s 6ms/step - loss: 0.6523 - acc: 0.6161 - f1_m: 0.3734\n",
            "Epoch 42/64\n",
            "255/255 [==============================] - 2s 6ms/step - loss: 0.6531 - acc: 0.6139 - f1_m: 0.3660\n",
            "Epoch 43/64\n",
            "255/255 [==============================] - 2s 6ms/step - loss: 0.6520 - acc: 0.6162 - f1_m: 0.3707\n",
            "Epoch 44/64\n",
            "255/255 [==============================] - 2s 6ms/step - loss: 0.6515 - acc: 0.6178 - f1_m: 0.3858\n",
            "Epoch 45/64\n",
            "255/255 [==============================] - 2s 6ms/step - loss: 0.6510 - acc: 0.6180 - f1_m: 0.3789\n",
            "Epoch 46/64\n",
            "255/255 [==============================] - 1s 6ms/step - loss: 0.6504 - acc: 0.6199 - f1_m: 0.3937\n",
            "Epoch 47/64\n",
            "255/255 [==============================] - 2s 6ms/step - loss: 0.6506 - acc: 0.6194 - f1_m: 0.3873\n",
            "Epoch 48/64\n",
            "255/255 [==============================] - 2s 6ms/step - loss: 0.6513 - acc: 0.6158 - f1_m: 0.3817\n",
            "Epoch 49/64\n",
            "255/255 [==============================] - 2s 6ms/step - loss: 0.6501 - acc: 0.6187 - f1_m: 0.3890\n",
            "Epoch 50/64\n",
            "255/255 [==============================] - 2s 6ms/step - loss: 0.6498 - acc: 0.6221 - f1_m: 0.3992\n",
            "Epoch 51/64\n",
            "255/255 [==============================] - 2s 6ms/step - loss: 0.6499 - acc: 0.6210 - f1_m: 0.3987\n",
            "Epoch 52/64\n",
            "255/255 [==============================] - 2s 6ms/step - loss: 0.6494 - acc: 0.6217 - f1_m: 0.3973\n",
            "Epoch 53/64\n",
            "255/255 [==============================] - 2s 6ms/step - loss: 0.6487 - acc: 0.6233 - f1_m: 0.4046\n",
            "Epoch 54/64\n",
            "255/255 [==============================] - 2s 6ms/step - loss: 0.6494 - acc: 0.6211 - f1_m: 0.4008\n",
            "Epoch 55/64\n",
            "255/255 [==============================] - 2s 6ms/step - loss: 0.6487 - acc: 0.6224 - f1_m: 0.4053\n",
            "Epoch 56/64\n",
            "255/255 [==============================] - 2s 6ms/step - loss: 0.6486 - acc: 0.6229 - f1_m: 0.4066\n",
            "Epoch 57/64\n",
            "255/255 [==============================] - 1s 5ms/step - loss: 0.6488 - acc: 0.6221 - f1_m: 0.4048\n",
            "Epoch 58/64\n",
            "255/255 [==============================] - 1s 5ms/step - loss: 0.6475 - acc: 0.6255 - f1_m: 0.4135\n",
            "Epoch 59/64\n",
            "255/255 [==============================] - 1s 4ms/step - loss: 0.6485 - acc: 0.6220 - f1_m: 0.4039\n",
            "Epoch 60/64\n",
            "255/255 [==============================] - 1s 4ms/step - loss: 0.6483 - acc: 0.6222 - f1_m: 0.4060\n",
            "Epoch 61/64\n",
            "255/255 [==============================] - 1s 4ms/step - loss: 0.6483 - acc: 0.6210 - f1_m: 0.4052\n",
            "Epoch 62/64\n",
            "255/255 [==============================] - 1s 5ms/step - loss: 0.6480 - acc: 0.6220 - f1_m: 0.4081\n",
            "Epoch 63/64\n",
            "255/255 [==============================] - 1s 4ms/step - loss: 0.6472 - acc: 0.6253 - f1_m: 0.4144\n",
            "Epoch 64/64\n",
            "255/255 [==============================] - 1s 6ms/step - loss: 0.6473 - acc: 0.6234 - f1_m: 0.4122\n"
          ]
        },
        {
          "output_type": "execute_result",
          "data": {
            "text/plain": [
              "<keras.callbacks.History at 0x7f6fadb01690>"
            ]
          },
          "metadata": {},
          "execution_count": 1074
        }
      ],
      "source": [
        "regressor.fit(X_train, y_train, epochs = 64, batch_size= 256 )"
      ]
    },
    {
      "cell_type": "code",
      "execution_count": null,
      "metadata": {
        "id": "I3aiqGZC-K_b"
      },
      "outputs": [],
      "source": [
        "y_predict = regressor.predict(X_test).flatten()"
      ]
    },
    {
      "cell_type": "code",
      "source": [
        "y_predict.shape"
      ],
      "metadata": {
        "id": "pBxH1fBl-uWd",
        "colab": {
          "base_uri": "https://localhost:8080/"
        },
        "outputId": "05c798a3-3da4-4ca7-9982-53ccc4389d96"
      },
      "execution_count": null,
      "outputs": [
        {
          "output_type": "execute_result",
          "data": {
            "text/plain": [
              "(15277,)"
            ]
          },
          "metadata": {},
          "execution_count": 1076
        }
      ]
    },
    {
      "cell_type": "code",
      "source": [
        "y_predict[0:10]"
      ],
      "metadata": {
        "id": "RQWkPmtk5QMN",
        "colab": {
          "base_uri": "https://localhost:8080/"
        },
        "outputId": "1c56c866-33a1-4b16-af33-0a380e33d8a0"
      },
      "execution_count": null,
      "outputs": [
        {
          "output_type": "execute_result",
          "data": {
            "text/plain": [
              "array([0.3006286 , 0.34935752, 0.4000706 , 0.37436065, 0.32115915,\n",
              "       0.30330363, 0.30906343, 0.37170616, 0.36391458, 0.4091829 ],\n",
              "      dtype=float32)"
            ]
          },
          "metadata": {},
          "execution_count": 1077
        }
      ]
    },
    {
      "cell_type": "code",
      "source": [
        "y_train_predict = regressor.predict(X_train).flatten()"
      ],
      "metadata": {
        "id": "P8kjuI7tQn0Y"
      },
      "execution_count": null,
      "outputs": []
    },
    {
      "cell_type": "code",
      "source": [
        "train_predict = [0 if i < 0.5 else 1 for i in y_train_predict]"
      ],
      "metadata": {
        "id": "1_HR90nSQxzv"
      },
      "execution_count": null,
      "outputs": []
    },
    {
      "cell_type": "code",
      "source": [
        "test_predict = [0 if i < 0.5 else 1 for i in y_predict]"
      ],
      "metadata": {
        "id": "AXd1mGT_O96x"
      },
      "execution_count": null,
      "outputs": []
    },
    {
      "cell_type": "code",
      "source": [
        "unique, counts = np.unique(np.array(test_predict), return_counts=True)\n",
        "\n",
        "np.asarray((unique, counts)).T"
      ],
      "metadata": {
        "id": "54IV8m-K9PTN",
        "colab": {
          "base_uri": "https://localhost:8080/"
        },
        "outputId": "20f213f2-8462-40b7-971a-e8536287895d"
      },
      "execution_count": null,
      "outputs": [
        {
          "output_type": "execute_result",
          "data": {
            "text/plain": [
              "array([[    0, 15149],\n",
              "       [    1,   128]])"
            ]
          },
          "metadata": {},
          "execution_count": 1081
        }
      ]
    },
    {
      "cell_type": "code",
      "source": [
        "unique1, counts1 = np.unique(np.array(y_test), return_counts=True)\n",
        "\n",
        "np.asarray((unique1, counts1)).T"
      ],
      "metadata": {
        "id": "lIz82BsQ_2TF",
        "colab": {
          "base_uri": "https://localhost:8080/"
        },
        "outputId": "042b5e2f-f4a3-400b-97a7-f73b9bb4a16e"
      },
      "execution_count": null,
      "outputs": [
        {
          "output_type": "execute_result",
          "data": {
            "text/plain": [
              "array([[   0, 8890],\n",
              "       [   1, 6387]])"
            ]
          },
          "metadata": {},
          "execution_count": 1082
        }
      ]
    },
    {
      "cell_type": "code",
      "source": [
        "train_tn, train_fp, train_fn, train_tp = confusion_matrix(y_train, train_predict).ravel()\n",
        "\n",
        "prec_weak = train_tn / (train_tn + train_fn)\n",
        "prec_strong = train_tp / (train_tp + train_fp)\n",
        "\n",
        "recall_no_rain = train_tn / (train_tn + train_fp)\n",
        "recall_rain = train_tp / (train_tp + train_fn)\n",
        "\n",
        "print('precision no rain {:.2f}'.format(prec_weak))\n",
        "print('precision rain: {:.2f}'.format(prec_strong))\n",
        "\n",
        "print('recall no rain: {:.2f}'.format(recall_no_rain))\n",
        "print('recall rain: {:.2f}'.format(recall_rain))\n",
        "\n",
        "print('f1 no rain: {:.2f}'.format(2 * (prec_weak * recall_no_rain) / (prec_weak + recall_no_rain)))\n",
        "print('f1 rain: {:.2f}'.format(2 * (prec_strong * recall_rain) / (prec_strong + recall_rain)))\n",
        "\n",
        "print('accuracy: {:.2f}'.format(accuracy_score(y_train, train_predict)))"
      ],
      "metadata": {
        "id": "WTyqUBz6N2E7",
        "colab": {
          "base_uri": "https://localhost:8080/"
        },
        "outputId": "b698da71-5031-446b-b0df-42f43a10d049"
      },
      "execution_count": null,
      "outputs": [
        {
          "output_type": "stream",
          "name": "stdout",
          "text": [
            "precision no rain 0.62\n",
            "precision rain: 0.61\n",
            "recall no rain: 0.90\n",
            "recall rain: 0.22\n",
            "f1 no rain: 0.74\n",
            "f1 rain: 0.33\n",
            "accuracy: 0.62\n"
          ]
        }
      ]
    },
    {
      "cell_type": "code",
      "source": [
        "test_tn, test_fp, test_fn, test_tp = confusion_matrix(y_test, test_predict).ravel()\n",
        "\n",
        "prec_weak = test_tn / (test_tn + test_fn)\n",
        "prec_strong = test_tp / (test_tp + test_fp)\n",
        "\n",
        "recall_no_rain = test_tn / (test_tn + test_fp)\n",
        "recall_rain = test_tp / (test_tp + test_fn)\n",
        "\n",
        "print('precision no rain {:.2f}'.format(prec_weak))\n",
        "print('precision rain: {:.2f}'.format(prec_strong))\n",
        "\n",
        "print('recall no rain: {:.2f}'.format(recall_no_rain))\n",
        "print('recall rain: {:.2f}'.format(recall_rain))\n",
        "\n",
        "print('f1 no rain: {:.2f}'.format(2 * (prec_weak * recall_no_rain) / (prec_weak + recall_no_rain)))\n",
        "print('f1 rain: {:.2f}'.format(2 * (prec_strong * recall_rain) / (prec_strong + recall_rain)))\n",
        "\n",
        "print('accuracy: {:.2f}'.format(accuracy_score(y_test, test_predict)))"
      ],
      "metadata": {
        "id": "6w-y5THGPvyv",
        "colab": {
          "base_uri": "https://localhost:8080/"
        },
        "outputId": "4c21d7c0-34c5-4591-9188-95da8ecd7ee4"
      },
      "execution_count": null,
      "outputs": [
        {
          "output_type": "stream",
          "name": "stdout",
          "text": [
            "precision no rain 0.58\n",
            "precision rain: 0.20\n",
            "recall no rain: 0.99\n",
            "recall rain: 0.00\n",
            "f1 no rain: 0.73\n",
            "f1 rain: 0.01\n",
            "accuracy: 0.58\n"
          ]
        }
      ]
    },
    {
      "cell_type": "code",
      "source": [],
      "metadata": {
        "id": "kjko_oqPTpbw"
      },
      "execution_count": null,
      "outputs": []
    }
  ],
  "metadata": {
    "accelerator": "GPU",
    "colab": {
      "collapsed_sections": [],
      "provenance": []
    },
    "gpuClass": "standard",
    "kernelspec": {
      "display_name": "Python 3",
      "name": "python3"
    },
    "language_info": {
      "name": "python"
    }
  },
  "nbformat": 4,
  "nbformat_minor": 0
}