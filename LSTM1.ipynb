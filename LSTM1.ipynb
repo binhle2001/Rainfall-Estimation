{
  "cells": [
    {
      "cell_type": "code",
      "execution_count": null,
      "metadata": {
        "id": "CikPGrZWofgU"
      },
      "outputs": [],
      "source": [
        "import numpy as np\n",
        "import matplotlib.pyplot as plt\n",
        "import pandas as pd\n",
        "import os.path\n",
        "from os import path\n",
        "from keras.models import Sequential\n",
        "from keras.layers import Dense\n",
        "from keras.layers import LSTM\n",
        "from keras.layers import Dropout\n",
        "from keras import backend as K\n",
        "from sklearn.metrics import confusion_matrix, accuracy_score\n",
        "from sklearn.preprocessing import OneHotEncoder"
      ]
    },
    {
      "cell_type": "code",
      "execution_count": null,
      "metadata": {
        "id": "sDjIgNZ8Q_Lr"
      },
      "outputs": [],
      "source": [
        "def recall_m(y_true, y_pred):\n",
        "    true_positives = K.sum(K.round(K.clip(y_true * y_pred, 0, 1)))\n",
        "    possible_positives = K.sum(K.round(K.clip(y_true, 0, 1)))\n",
        "    recall = true_positives / (possible_positives + K.epsilon())\n",
        "    return recall\n",
        "\n",
        "def precision_m(y_true, y_pred):\n",
        "    true_positives = K.sum(K.round(K.clip(y_true * y_pred, 0, 1)))\n",
        "    predicted_positives = K.sum(K.round(K.clip(y_pred, 0, 1)))\n",
        "    precision = true_positives / (predicted_positives + K.epsilon())\n",
        "    return precision\n",
        "\n",
        "def f1_m(y_true, y_pred):\n",
        "    precision = precision_m(y_true, y_pred)\n",
        "    recall = recall_m(y_true, y_pred)\n",
        "    return 2*((precision*recall)/(precision+recall+K.epsilon()))"
      ]
    },
    {
      "cell_type": "code",
      "execution_count": null,
      "metadata": {
        "colab": {
          "base_uri": "https://localhost:8080/"
        },
        "id": "VGOd7JiholUM",
        "outputId": "44614430-b762-4daf-ffa7-960dae0ba19b"
      },
      "outputs": [
        {
          "output_type": "stream",
          "name": "stdout",
          "text": [
            "Drive already mounted at /content/drive; to attempt to forcibly remount, call drive.mount(\"/content/drive\", force_remount=True).\n"
          ]
        }
      ],
      "source": [
        "from google.colab import drive\n",
        "drive.mount('/content/drive')"
      ]
    },
    {
      "cell_type": "code",
      "execution_count": null,
      "metadata": {
        "id": "xSQORofdot6Y"
      },
      "outputs": [],
      "source": [
        "data1_train = pd.read_csv(\"/content/drive/MyDrive/Data mưa/cv1_data_train_92022.csv\")\n",
        "data1_test = pd.read_csv(\"/content/drive/MyDrive/Data mưa/cv1_data_test_92022.csv\")\n",
        "data2_train = pd.read_csv(\"/content/drive/MyDrive/Data mưa/cv2_data_train_92022.csv\")\n",
        "data2_test = pd.read_csv('/content/drive/MyDrive/Data mưa/cv2_data_test_92022.csv')\n",
        "data3_train = pd.read_csv('/content/drive/MyDrive/Data mưa/cv3_data_train_92022.csv')\n",
        "data3_test = pd.read_csv('/content/drive/MyDrive/Data mưa/cv3_data_test_92022.csv')\n",
        "data4_train = pd.read_csv('/content/drive/MyDrive/Data mưa/cv4_data_train_92022.csv')\n",
        "data4_test = pd.read_csv('/content/drive/MyDrive/Data mưa/cv4_data_test_92022.csv')\n",
        "data5_train = pd.read_csv('/content/drive/MyDrive/Data mưa/cv5_data_train_92022.csv')\n",
        "data5_test = pd.read_csv('/content/drive/MyDrive/Data mưa/cv5_data_test_92022.csv')\n",
        "data6_train = pd.read_csv('/content/drive/MyDrive/Data mưa/cv6_data_train_92022.csv')\n",
        "data6_test = pd.read_csv('/content/drive/MyDrive/Data mưa/cv6_data_test_92022.csv')\n",
        "data7_train = pd.read_csv('/content/drive/MyDrive/Data mưa/cv7_data_train_92022.csv')\n",
        "data7_test = pd.read_csv('/content/drive/MyDrive/Data mưa/cv7_data_test_92022.csv')\n",
        "data8_train = pd.read_csv('/content/drive/MyDrive/Data mưa/cv8_data_train_92022.csv')\n",
        "data8_test = pd.read_csv('/content/drive/MyDrive/Data mưa/cv8_data_test_92022.csv')\n",
        "data9_train = pd.read_csv('/content/drive/MyDrive/Data mưa/cv9_data_train_92022.csv')\n",
        "data9_test = pd.read_csv('/content/drive/MyDrive/Data mưa/cv9_data_test_92022.csv')\n",
        "data10_train = pd.read_csv('/content/drive/MyDrive/Data mưa/cv10_data_train_92022.csv')\n",
        "data10_test = pd.read_csv('/content/drive/MyDrive/Data mưa/cv10_data_test_92022.csv')\n",
        "data11_train = pd.read_csv('/content/drive/MyDrive/Data mưa/cv11_data_train_92022.csv')\n",
        "data11_test = pd.read_csv('/content/drive/MyDrive/Data mưa/cv11_data_test_92022.csv')\n",
        "data12_train = pd.read_csv('/content/drive/MyDrive/Data mưa/cv12_data_train_92022.csv')\n",
        "data12_test = pd.read_csv('/content/drive/MyDrive/Data mưa/cv12_data_test_92022.csv')\n",
        "data13_train = pd.read_csv('/content/drive/MyDrive/Data mưa/cv13_data_train_92022.csv')\n",
        "data13_test = pd.read_csv('/content/drive/MyDrive/Data mưa/cv13_data_test_92022.csv')\n",
        "\n"
      ]
    },
    {
      "cell_type": "code",
      "source": [
        "data_train = data11_train\n",
        "data_test = data11_test"
      ],
      "metadata": {
        "id": "Y6E8cn612kNI"
      },
      "execution_count": null,
      "outputs": []
    },
    {
      "cell_type": "code",
      "execution_count": null,
      "metadata": {
        "id": "tq-rRcZjozwo"
      },
      "outputs": [],
      "source": [
        "# data_train = pd.concat([data1_train, data1_test, data3_train, data3_test, data4_train, data4_test, data5_train, data5_test,\n",
        "#                        data6_train, data6_test, data7_train, data7_test, data8_train, data8_test, data9_train, data9_test,\n",
        "#                        data10_train, data10_test, data11_train, data11_test, data12_train, data12_test, data13_train, data13_test])\n",
        "# data_test = pd.concat([data2_train, data2_test])"
      ]
    },
    {
      "cell_type": "code",
      "execution_count": null,
      "metadata": {
        "id": "q6TNnLPc5hUO"
      },
      "outputs": [],
      "source": [
        "data_train = data_train.drop(columns = ['x_id', 'y_id', 'DEM_value', 'cloud_value'])\n"
      ]
    },
    {
      "cell_type": "code",
      "execution_count": null,
      "metadata": {
        "id": "XegfnPc5HUQG"
      },
      "outputs": [],
      "source": [
        "\n",
        "data_test = data_test.drop(columns = ['x_id', 'y_id', 'DEM_value', 'cloud_value'])\n"
      ]
    },
    {
      "cell_type": "code",
      "execution_count": null,
      "metadata": {
        "id": "KUU2JNr4H_I0"
      },
      "outputs": [],
      "source": [
        "data_train['utc_time'] = pd.to_datetime(data_train['utc_time'])\n",
        "data_train['hour'] = data_train['utc_time'].apply(lambda x: x.hour)\n",
        "import datetime\n",
        "\n",
        "def function(x):\n",
        "    x = x.timetuple()\n",
        "    jdate = x.tm_yday\n",
        "    return(jdate)\n",
        "data_train['date'] = data_train['utc_time'].apply(lambda x: function(x))\n"
      ]
    },
    {
      "cell_type": "code",
      "source": [
        "data_test['utc_time'] = pd.to_datetime(data_test['utc_time'])\n",
        "data_test['hour'] = data_test['utc_time'].apply(lambda x: x.hour)\n",
        "import datetime\n",
        "\n",
        "def function(x):\n",
        "    x = x.timetuple()\n",
        "    jdate = x.tm_yday\n",
        "    return(jdate)\n",
        "data_test['date'] = data_test['utc_time'].apply(lambda x: function(x))"
      ],
      "metadata": {
        "id": "TCOEi-latA7l"
      },
      "execution_count": null,
      "outputs": []
    },
    {
      "cell_type": "code",
      "source": [
        "\n",
        "\n",
        "data_train['day'] = data_train['utc_time'].apply(lambda x: x.day)\n",
        "data_train['month'] = data_train['utc_time'].apply(lambda x: x.month)"
      ],
      "metadata": {
        "id": "ZpWekNSdnb_U"
      },
      "execution_count": null,
      "outputs": []
    },
    {
      "cell_type": "code",
      "source": [
        "data_test['day'] = data_test['utc_time'].apply(lambda x: x.day)\n",
        "data_test['month'] = data_test['utc_time'].apply(lambda x: x.month)"
      ],
      "metadata": {
        "id": "51c9YiIztHht"
      },
      "execution_count": null,
      "outputs": []
    },
    {
      "cell_type": "code",
      "source": [
        "def split_day(x):\n",
        "  string = '{0:05b}'.format(x)\n",
        "  arr = [*string]\n",
        "  arr = [int(a) for a in arr]\n",
        "  return arr\n",
        "def split_month(x):\n",
        "  string = '{0:04b}'.format(x)\n",
        "  arr = [*string]\n",
        "  arr = [int(a) for a in arr]\n",
        "  return arr\n",
        "def fill_columns(data_test):\n",
        "  data_test['bit_day1'] = data_test['utc_time'].apply(lambda x: split_day(x.day)[0])\n",
        "  data_test['bit_day2'] = data_test['utc_time'].apply(lambda x: split_day(x.day)[1])\n",
        "  data_test['bit_day3'] = data_test['utc_time'].apply(lambda x: split_day(x.day)[2])\n",
        "  data_test['bit_day4'] = data_test['utc_time'].apply(lambda x: split_day(x.day)[3])\n",
        "  data_test['bit_day5'] = data_test['utc_time'].apply(lambda x: split_day(x.day)[4])\n",
        "  data_test['bit_month1'] = data_test['utc_time'].apply(lambda x: split_day(x.month)[1])\n",
        "  data_test['bit_month2'] = data_test['utc_time'].apply(lambda x: split_day(x.month)[2])\n",
        "  data_test['bit_month3'] = data_test['utc_time'].apply(lambda x: split_day(x.month)[3])\n",
        "  data_test['bit_month4'] = data_test['utc_time'].apply(lambda x: split_day(x.month)[4])"
      ],
      "metadata": {
        "id": "0XnVVJpxiePZ"
      },
      "execution_count": null,
      "outputs": []
    },
    {
      "cell_type": "code",
      "source": [
        "fill_columns(data_test)\n",
        "fill_columns(data_train)"
      ],
      "metadata": {
        "id": "fUQemZfUHp2e"
      },
      "execution_count": null,
      "outputs": []
    },
    {
      "cell_type": "code",
      "source": [
        "data_train = data_train.drop(columns = 'utc_time')"
      ],
      "metadata": {
        "id": "atxru1zzq-4X"
      },
      "execution_count": null,
      "outputs": []
    },
    {
      "cell_type": "code",
      "source": [
        "data_test = data_test.drop(columns = 'utc_time')"
      ],
      "metadata": {
        "id": "jpdOnLS7tZHl"
      },
      "execution_count": null,
      "outputs": []
    },
    {
      "cell_type": "code",
      "source": [
        "data_train "
      ],
      "metadata": {
        "colab": {
          "base_uri": "https://localhost:8080/",
          "height": 488
        },
        "id": "4FcyNY2AoyFZ",
        "outputId": "0af9eca9-fa4e-4ea5-f1bd-ab0e42ed15fa"
      },
      "execution_count": null,
      "outputs": [
        {
          "output_type": "execute_result",
          "data": {
            "text/plain": [
              "          Name            id       lon       lat  value  irb_value   wvb_b09  \\\n",
              "0       226708    Chiềng Bôm  103.6502  21.42961    3.0  288.15143  -7.69904   \n",
              "1       692253     HienChung  104.8681  20.42085    0.2  294.00000  -7.01337   \n",
              "2          854  DapDangThoDo  108.7936  13.92894    0.0  270.71997 -11.72998   \n",
              "3        79361     KienThiet  105.3138  21.99546    0.0  263.11273 -10.94996   \n",
              "4        92261    TruongXuan  107.6333  12.10000    0.2  265.90723  -9.17822   \n",
              "...        ...           ...       ...       ...    ...        ...       ...   \n",
              "457266   91828      PhuocTan  108.8086  11.85611    0.2  267.00000  -7.08404   \n",
              "457267   93006          LoKu  108.5122  14.15417    0.0  275.27075 -10.88885   \n",
              "457268  924774      Trà Giáp  108.2542  15.22222    0.0  264.80000  -9.24500   \n",
              "457269    3403       CuPrao   108.6633  12.86814    0.0  277.70850  -8.21887   \n",
              "457270  343041       XaMyTho  109.1609  14.21600    0.0  256.57202  -8.21887   \n",
              "\n",
              "        b09_b10   b10_b16  b11_irb  ...  month  bit_day1  bit_day2  bit_day3  \\\n",
              "0      -4.80994 -13.21002 -3.29143  ...      9         0         1         1   \n",
              "1      -9.26092 -20.46154 -3.82250  ...      8         0         0         0   \n",
              "2      -9.25671  -3.26965 -1.99664  ...     10         1         1         1   \n",
              "3      -6.19879  -2.67926 -1.19269  ...     11         0         1         1   \n",
              "4      -5.08417  -4.94671 -2.21363  ...      9         1         0         0   \n",
              "...         ...       ...      ...  ...    ...       ...       ...       ...   \n",
              "457266 -5.55664  -3.86242 -2.15723  ...      9         0         0         0   \n",
              "457267 -7.00350  -1.49944 -1.88225  ...     11         0         1         1   \n",
              "457268 -8.70629  -6.13874 -1.69453  ...      8         0         0         1   \n",
              "457269 -9.90545 -10.16254 -0.91310  ...      8         0         0         1   \n",
              "457270 -7.14398  -4.09998 -0.99200  ...      9         0         1         1   \n",
              "\n",
              "        bit_day4  bit_day5  bit_month1  bit_month2  bit_month3  bit_month4  \n",
              "0              1         0           1           0           0           1  \n",
              "1              1         0           1           0           0           0  \n",
              "2              1         1           1           0           1           0  \n",
              "3              1         1           1           0           1           1  \n",
              "4              1         0           1           0           0           1  \n",
              "...          ...       ...         ...         ...         ...         ...  \n",
              "457266         1         1           1           0           0           1  \n",
              "457267         1         1           1           0           1           1  \n",
              "457268         0         1           1           0           0           0  \n",
              "457269         1         0           1           0           0           0  \n",
              "457270         1         1           1           0           0           1  \n",
              "\n",
              "[457271 rows x 24 columns]"
            ],
            "text/html": [
              "\n",
              "  <div id=\"df-7b60db09-76a9-4f98-a3c3-d910d56af5a8\">\n",
              "    <div class=\"colab-df-container\">\n",
              "      <div>\n",
              "<style scoped>\n",
              "    .dataframe tbody tr th:only-of-type {\n",
              "        vertical-align: middle;\n",
              "    }\n",
              "\n",
              "    .dataframe tbody tr th {\n",
              "        vertical-align: top;\n",
              "    }\n",
              "\n",
              "    .dataframe thead th {\n",
              "        text-align: right;\n",
              "    }\n",
              "</style>\n",
              "<table border=\"1\" class=\"dataframe\">\n",
              "  <thead>\n",
              "    <tr style=\"text-align: right;\">\n",
              "      <th></th>\n",
              "      <th>Name</th>\n",
              "      <th>id</th>\n",
              "      <th>lon</th>\n",
              "      <th>lat</th>\n",
              "      <th>value</th>\n",
              "      <th>irb_value</th>\n",
              "      <th>wvb_b09</th>\n",
              "      <th>b09_b10</th>\n",
              "      <th>b10_b16</th>\n",
              "      <th>b11_irb</th>\n",
              "      <th>...</th>\n",
              "      <th>month</th>\n",
              "      <th>bit_day1</th>\n",
              "      <th>bit_day2</th>\n",
              "      <th>bit_day3</th>\n",
              "      <th>bit_day4</th>\n",
              "      <th>bit_day5</th>\n",
              "      <th>bit_month1</th>\n",
              "      <th>bit_month2</th>\n",
              "      <th>bit_month3</th>\n",
              "      <th>bit_month4</th>\n",
              "    </tr>\n",
              "  </thead>\n",
              "  <tbody>\n",
              "    <tr>\n",
              "      <th>0</th>\n",
              "      <td>226708</td>\n",
              "      <td>Chiềng Bôm</td>\n",
              "      <td>103.6502</td>\n",
              "      <td>21.42961</td>\n",
              "      <td>3.0</td>\n",
              "      <td>288.15143</td>\n",
              "      <td>-7.69904</td>\n",
              "      <td>-4.80994</td>\n",
              "      <td>-13.21002</td>\n",
              "      <td>-3.29143</td>\n",
              "      <td>...</td>\n",
              "      <td>9</td>\n",
              "      <td>0</td>\n",
              "      <td>1</td>\n",
              "      <td>1</td>\n",
              "      <td>1</td>\n",
              "      <td>0</td>\n",
              "      <td>1</td>\n",
              "      <td>0</td>\n",
              "      <td>0</td>\n",
              "      <td>1</td>\n",
              "    </tr>\n",
              "    <tr>\n",
              "      <th>1</th>\n",
              "      <td>692253</td>\n",
              "      <td>HienChung</td>\n",
              "      <td>104.8681</td>\n",
              "      <td>20.42085</td>\n",
              "      <td>0.2</td>\n",
              "      <td>294.00000</td>\n",
              "      <td>-7.01337</td>\n",
              "      <td>-9.26092</td>\n",
              "      <td>-20.46154</td>\n",
              "      <td>-3.82250</td>\n",
              "      <td>...</td>\n",
              "      <td>8</td>\n",
              "      <td>0</td>\n",
              "      <td>0</td>\n",
              "      <td>0</td>\n",
              "      <td>1</td>\n",
              "      <td>0</td>\n",
              "      <td>1</td>\n",
              "      <td>0</td>\n",
              "      <td>0</td>\n",
              "      <td>0</td>\n",
              "    </tr>\n",
              "    <tr>\n",
              "      <th>2</th>\n",
              "      <td>854</td>\n",
              "      <td>DapDangThoDo</td>\n",
              "      <td>108.7936</td>\n",
              "      <td>13.92894</td>\n",
              "      <td>0.0</td>\n",
              "      <td>270.71997</td>\n",
              "      <td>-11.72998</td>\n",
              "      <td>-9.25671</td>\n",
              "      <td>-3.26965</td>\n",
              "      <td>-1.99664</td>\n",
              "      <td>...</td>\n",
              "      <td>10</td>\n",
              "      <td>1</td>\n",
              "      <td>1</td>\n",
              "      <td>1</td>\n",
              "      <td>1</td>\n",
              "      <td>1</td>\n",
              "      <td>1</td>\n",
              "      <td>0</td>\n",
              "      <td>1</td>\n",
              "      <td>0</td>\n",
              "    </tr>\n",
              "    <tr>\n",
              "      <th>3</th>\n",
              "      <td>79361</td>\n",
              "      <td>KienThiet</td>\n",
              "      <td>105.3138</td>\n",
              "      <td>21.99546</td>\n",
              "      <td>0.0</td>\n",
              "      <td>263.11273</td>\n",
              "      <td>-10.94996</td>\n",
              "      <td>-6.19879</td>\n",
              "      <td>-2.67926</td>\n",
              "      <td>-1.19269</td>\n",
              "      <td>...</td>\n",
              "      <td>11</td>\n",
              "      <td>0</td>\n",
              "      <td>1</td>\n",
              "      <td>1</td>\n",
              "      <td>1</td>\n",
              "      <td>1</td>\n",
              "      <td>1</td>\n",
              "      <td>0</td>\n",
              "      <td>1</td>\n",
              "      <td>1</td>\n",
              "    </tr>\n",
              "    <tr>\n",
              "      <th>4</th>\n",
              "      <td>92261</td>\n",
              "      <td>TruongXuan</td>\n",
              "      <td>107.6333</td>\n",
              "      <td>12.10000</td>\n",
              "      <td>0.2</td>\n",
              "      <td>265.90723</td>\n",
              "      <td>-9.17822</td>\n",
              "      <td>-5.08417</td>\n",
              "      <td>-4.94671</td>\n",
              "      <td>-2.21363</td>\n",
              "      <td>...</td>\n",
              "      <td>9</td>\n",
              "      <td>1</td>\n",
              "      <td>0</td>\n",
              "      <td>0</td>\n",
              "      <td>1</td>\n",
              "      <td>0</td>\n",
              "      <td>1</td>\n",
              "      <td>0</td>\n",
              "      <td>0</td>\n",
              "      <td>1</td>\n",
              "    </tr>\n",
              "    <tr>\n",
              "      <th>...</th>\n",
              "      <td>...</td>\n",
              "      <td>...</td>\n",
              "      <td>...</td>\n",
              "      <td>...</td>\n",
              "      <td>...</td>\n",
              "      <td>...</td>\n",
              "      <td>...</td>\n",
              "      <td>...</td>\n",
              "      <td>...</td>\n",
              "      <td>...</td>\n",
              "      <td>...</td>\n",
              "      <td>...</td>\n",
              "      <td>...</td>\n",
              "      <td>...</td>\n",
              "      <td>...</td>\n",
              "      <td>...</td>\n",
              "      <td>...</td>\n",
              "      <td>...</td>\n",
              "      <td>...</td>\n",
              "      <td>...</td>\n",
              "      <td>...</td>\n",
              "    </tr>\n",
              "    <tr>\n",
              "      <th>457266</th>\n",
              "      <td>91828</td>\n",
              "      <td>PhuocTan</td>\n",
              "      <td>108.8086</td>\n",
              "      <td>11.85611</td>\n",
              "      <td>0.2</td>\n",
              "      <td>267.00000</td>\n",
              "      <td>-7.08404</td>\n",
              "      <td>-5.55664</td>\n",
              "      <td>-3.86242</td>\n",
              "      <td>-2.15723</td>\n",
              "      <td>...</td>\n",
              "      <td>9</td>\n",
              "      <td>0</td>\n",
              "      <td>0</td>\n",
              "      <td>0</td>\n",
              "      <td>1</td>\n",
              "      <td>1</td>\n",
              "      <td>1</td>\n",
              "      <td>0</td>\n",
              "      <td>0</td>\n",
              "      <td>1</td>\n",
              "    </tr>\n",
              "    <tr>\n",
              "      <th>457267</th>\n",
              "      <td>93006</td>\n",
              "      <td>LoKu</td>\n",
              "      <td>108.5122</td>\n",
              "      <td>14.15417</td>\n",
              "      <td>0.0</td>\n",
              "      <td>275.27075</td>\n",
              "      <td>-10.88885</td>\n",
              "      <td>-7.00350</td>\n",
              "      <td>-1.49944</td>\n",
              "      <td>-1.88225</td>\n",
              "      <td>...</td>\n",
              "      <td>11</td>\n",
              "      <td>0</td>\n",
              "      <td>1</td>\n",
              "      <td>1</td>\n",
              "      <td>1</td>\n",
              "      <td>1</td>\n",
              "      <td>1</td>\n",
              "      <td>0</td>\n",
              "      <td>1</td>\n",
              "      <td>1</td>\n",
              "    </tr>\n",
              "    <tr>\n",
              "      <th>457268</th>\n",
              "      <td>924774</td>\n",
              "      <td>Trà Giáp</td>\n",
              "      <td>108.2542</td>\n",
              "      <td>15.22222</td>\n",
              "      <td>0.0</td>\n",
              "      <td>264.80000</td>\n",
              "      <td>-9.24500</td>\n",
              "      <td>-8.70629</td>\n",
              "      <td>-6.13874</td>\n",
              "      <td>-1.69453</td>\n",
              "      <td>...</td>\n",
              "      <td>8</td>\n",
              "      <td>0</td>\n",
              "      <td>0</td>\n",
              "      <td>1</td>\n",
              "      <td>0</td>\n",
              "      <td>1</td>\n",
              "      <td>1</td>\n",
              "      <td>0</td>\n",
              "      <td>0</td>\n",
              "      <td>0</td>\n",
              "    </tr>\n",
              "    <tr>\n",
              "      <th>457269</th>\n",
              "      <td>3403</td>\n",
              "      <td>CuPrao</td>\n",
              "      <td>108.6633</td>\n",
              "      <td>12.86814</td>\n",
              "      <td>0.0</td>\n",
              "      <td>277.70850</td>\n",
              "      <td>-8.21887</td>\n",
              "      <td>-9.90545</td>\n",
              "      <td>-10.16254</td>\n",
              "      <td>-0.91310</td>\n",
              "      <td>...</td>\n",
              "      <td>8</td>\n",
              "      <td>0</td>\n",
              "      <td>0</td>\n",
              "      <td>1</td>\n",
              "      <td>1</td>\n",
              "      <td>0</td>\n",
              "      <td>1</td>\n",
              "      <td>0</td>\n",
              "      <td>0</td>\n",
              "      <td>0</td>\n",
              "    </tr>\n",
              "    <tr>\n",
              "      <th>457270</th>\n",
              "      <td>343041</td>\n",
              "      <td>XaMyTho</td>\n",
              "      <td>109.1609</td>\n",
              "      <td>14.21600</td>\n",
              "      <td>0.0</td>\n",
              "      <td>256.57202</td>\n",
              "      <td>-8.21887</td>\n",
              "      <td>-7.14398</td>\n",
              "      <td>-4.09998</td>\n",
              "      <td>-0.99200</td>\n",
              "      <td>...</td>\n",
              "      <td>9</td>\n",
              "      <td>0</td>\n",
              "      <td>1</td>\n",
              "      <td>1</td>\n",
              "      <td>1</td>\n",
              "      <td>1</td>\n",
              "      <td>1</td>\n",
              "      <td>0</td>\n",
              "      <td>0</td>\n",
              "      <td>1</td>\n",
              "    </tr>\n",
              "  </tbody>\n",
              "</table>\n",
              "<p>457271 rows × 24 columns</p>\n",
              "</div>\n",
              "      <button class=\"colab-df-convert\" onclick=\"convertToInteractive('df-7b60db09-76a9-4f98-a3c3-d910d56af5a8')\"\n",
              "              title=\"Convert this dataframe to an interactive table.\"\n",
              "              style=\"display:none;\">\n",
              "        \n",
              "  <svg xmlns=\"http://www.w3.org/2000/svg\" height=\"24px\"viewBox=\"0 0 24 24\"\n",
              "       width=\"24px\">\n",
              "    <path d=\"M0 0h24v24H0V0z\" fill=\"none\"/>\n",
              "    <path d=\"M18.56 5.44l.94 2.06.94-2.06 2.06-.94-2.06-.94-.94-2.06-.94 2.06-2.06.94zm-11 1L8.5 8.5l.94-2.06 2.06-.94-2.06-.94L8.5 2.5l-.94 2.06-2.06.94zm10 10l.94 2.06.94-2.06 2.06-.94-2.06-.94-.94-2.06-.94 2.06-2.06.94z\"/><path d=\"M17.41 7.96l-1.37-1.37c-.4-.4-.92-.59-1.43-.59-.52 0-1.04.2-1.43.59L10.3 9.45l-7.72 7.72c-.78.78-.78 2.05 0 2.83L4 21.41c.39.39.9.59 1.41.59.51 0 1.02-.2 1.41-.59l7.78-7.78 2.81-2.81c.8-.78.8-2.07 0-2.86zM5.41 20L4 18.59l7.72-7.72 1.47 1.35L5.41 20z\"/>\n",
              "  </svg>\n",
              "      </button>\n",
              "      \n",
              "  <style>\n",
              "    .colab-df-container {\n",
              "      display:flex;\n",
              "      flex-wrap:wrap;\n",
              "      gap: 12px;\n",
              "    }\n",
              "\n",
              "    .colab-df-convert {\n",
              "      background-color: #E8F0FE;\n",
              "      border: none;\n",
              "      border-radius: 50%;\n",
              "      cursor: pointer;\n",
              "      display: none;\n",
              "      fill: #1967D2;\n",
              "      height: 32px;\n",
              "      padding: 0 0 0 0;\n",
              "      width: 32px;\n",
              "    }\n",
              "\n",
              "    .colab-df-convert:hover {\n",
              "      background-color: #E2EBFA;\n",
              "      box-shadow: 0px 1px 2px rgba(60, 64, 67, 0.3), 0px 1px 3px 1px rgba(60, 64, 67, 0.15);\n",
              "      fill: #174EA6;\n",
              "    }\n",
              "\n",
              "    [theme=dark] .colab-df-convert {\n",
              "      background-color: #3B4455;\n",
              "      fill: #D2E3FC;\n",
              "    }\n",
              "\n",
              "    [theme=dark] .colab-df-convert:hover {\n",
              "      background-color: #434B5C;\n",
              "      box-shadow: 0px 1px 3px 1px rgba(0, 0, 0, 0.15);\n",
              "      filter: drop-shadow(0px 1px 2px rgba(0, 0, 0, 0.3));\n",
              "      fill: #FFFFFF;\n",
              "    }\n",
              "  </style>\n",
              "\n",
              "      <script>\n",
              "        const buttonEl =\n",
              "          document.querySelector('#df-7b60db09-76a9-4f98-a3c3-d910d56af5a8 button.colab-df-convert');\n",
              "        buttonEl.style.display =\n",
              "          google.colab.kernel.accessAllowed ? 'block' : 'none';\n",
              "\n",
              "        async function convertToInteractive(key) {\n",
              "          const element = document.querySelector('#df-7b60db09-76a9-4f98-a3c3-d910d56af5a8');\n",
              "          const dataTable =\n",
              "            await google.colab.kernel.invokeFunction('convertToInteractive',\n",
              "                                                     [key], {});\n",
              "          if (!dataTable) return;\n",
              "\n",
              "          const docLinkHtml = 'Like what you see? Visit the ' +\n",
              "            '<a target=\"_blank\" href=https://colab.research.google.com/notebooks/data_table.ipynb>data table notebook</a>'\n",
              "            + ' to learn more about interactive tables.';\n",
              "          element.innerHTML = '';\n",
              "          dataTable['output_type'] = 'display_data';\n",
              "          await google.colab.output.renderOutput(dataTable, element);\n",
              "          const docLink = document.createElement('div');\n",
              "          docLink.innerHTML = docLinkHtml;\n",
              "          element.appendChild(docLink);\n",
              "        }\n",
              "      </script>\n",
              "    </div>\n",
              "  </div>\n",
              "  "
            ]
          },
          "metadata": {},
          "execution_count": 218
        }
      ]
    },
    {
      "cell_type": "code",
      "execution_count": null,
      "metadata": {
        "id": "lT4c3YaZORC0"
      },
      "outputs": [],
      "source": []
    },
    {
      "cell_type": "code",
      "execution_count": null,
      "metadata": {
        "id": "1ocSRDfl5T5Q"
      },
      "outputs": [],
      "source": [
        "data_train = data_train.sort_values(by = ['id', 'date', 'hour'])\n"
      ]
    },
    {
      "cell_type": "code",
      "execution_count": null,
      "metadata": {
        "id": "SjxpBkNNOb9M"
      },
      "outputs": [],
      "source": [
        "data_test = data_test.sort_values(by = ['id', 'date', 'hour'])"
      ]
    },
    {
      "cell_type": "code",
      "execution_count": null,
      "metadata": {
        "id": "SAdrwFsG58PT",
        "colab": {
          "base_uri": "https://localhost:8080/",
          "height": 835
        },
        "outputId": "636101aa-d6d0-4c72-c373-46e09c26b3e9"
      },
      "outputs": [
        {
          "output_type": "execute_result",
          "data": {
            "text/plain": [
              "          Name                 id       lon       lat  value  irb_value  \\\n",
              "318796  356642             A Bung  107.0261  16.36830    0.0  247.32220   \n",
              "289590  356642             A Bung  107.0261  16.36830    0.0  261.96362   \n",
              "143659  356642             A Bung  107.0261  16.36830    1.0  265.90723   \n",
              "36050   356642             A Bung  107.0261  16.36830    0.0  219.19500   \n",
              "69852   356642             A Bung  107.0261  16.36830    0.0  234.04285   \n",
              "...        ...                ...       ...       ...    ...        ...   \n",
              "88321   299387  Đức Vân - Bắc Kạn  106.0331  22.44722    0.0  259.01727   \n",
              "215304  299387  Đức Vân - Bắc Kạn  106.0331  22.44722    0.0  257.19300   \n",
              "34857   299387  Đức Vân - Bắc Kạn  106.0331  22.44722    0.2  252.74902   \n",
              "324779  299387  Đức Vân - Bắc Kạn  106.0331  22.44722    0.2  254.68500   \n",
              "441875  299387  Đức Vân - Bắc Kạn  106.0331  22.44722    0.6  257.80505   \n",
              "\n",
              "        wvb_b09  b09_b10  b10_b16  b11_irb  ...  month  bit_day1  bit_day2  \\\n",
              "318796 -6.96283 -3.32501 -1.65502 -0.45721  ...      7         1         0   \n",
              "289590 -8.14667 -7.26477 -5.58856 -1.25964  ...      7         1         0   \n",
              "143659 -7.87616 -8.39807 -7.45459 -1.06446  ...      7         1         0   \n",
              "36050  -0.28663 -0.15832  0.38354 -0.70098  ...      7         1         0   \n",
              "69852  -2.94098 -2.44903  0.04150 -0.70453  ...      7         1         0   \n",
              "...         ...      ...      ...      ...  ...    ...       ...       ...   \n",
              "88321  -6.88428 -3.62695 -1.15674 -2.77727  ...      9         1         0   \n",
              "215304 -6.88428 -1.94995 -1.54572 -2.29298  ...      9         1         0   \n",
              "34857  -6.38220 -3.31433 -0.24457 -1.34900  ...      9         1         0   \n",
              "324779 -6.28107 -2.16149 -1.33851 -2.56500  ...      9         1         0   \n",
              "441875 -7.28107 -2.90429 -2.18970 -2.22503  ...      9         1         0   \n",
              "\n",
              "        bit_day3  bit_day4  bit_day5  bit_month1  bit_month2  bit_month3  \\\n",
              "318796         1         0         0           0           1           1   \n",
              "289590         1         0         0           0           1           1   \n",
              "143659         1         0         0           0           1           1   \n",
              "36050          1         0         0           0           1           1   \n",
              "69852          1         0         0           0           1           1   \n",
              "...          ...       ...       ...         ...         ...         ...   \n",
              "88321          0         1         1           1           0           0   \n",
              "215304         0         1         1           1           0           0   \n",
              "34857          0         1         1           1           0           0   \n",
              "324779         0         1         1           1           0           0   \n",
              "441875         0         1         1           1           0           0   \n",
              "\n",
              "        bit_month4  \n",
              "318796           1  \n",
              "289590           1  \n",
              "143659           1  \n",
              "36050            1  \n",
              "69852            1  \n",
              "...            ...  \n",
              "88321            1  \n",
              "215304           1  \n",
              "34857            1  \n",
              "324779           1  \n",
              "441875           1  \n",
              "\n",
              "[457271 rows x 24 columns]"
            ],
            "text/html": [
              "\n",
              "  <div id=\"df-3017dc84-9954-4fc9-86b0-8221f45230ab\">\n",
              "    <div class=\"colab-df-container\">\n",
              "      <div>\n",
              "<style scoped>\n",
              "    .dataframe tbody tr th:only-of-type {\n",
              "        vertical-align: middle;\n",
              "    }\n",
              "\n",
              "    .dataframe tbody tr th {\n",
              "        vertical-align: top;\n",
              "    }\n",
              "\n",
              "    .dataframe thead th {\n",
              "        text-align: right;\n",
              "    }\n",
              "</style>\n",
              "<table border=\"1\" class=\"dataframe\">\n",
              "  <thead>\n",
              "    <tr style=\"text-align: right;\">\n",
              "      <th></th>\n",
              "      <th>Name</th>\n",
              "      <th>id</th>\n",
              "      <th>lon</th>\n",
              "      <th>lat</th>\n",
              "      <th>value</th>\n",
              "      <th>irb_value</th>\n",
              "      <th>wvb_b09</th>\n",
              "      <th>b09_b10</th>\n",
              "      <th>b10_b16</th>\n",
              "      <th>b11_irb</th>\n",
              "      <th>...</th>\n",
              "      <th>month</th>\n",
              "      <th>bit_day1</th>\n",
              "      <th>bit_day2</th>\n",
              "      <th>bit_day3</th>\n",
              "      <th>bit_day4</th>\n",
              "      <th>bit_day5</th>\n",
              "      <th>bit_month1</th>\n",
              "      <th>bit_month2</th>\n",
              "      <th>bit_month3</th>\n",
              "      <th>bit_month4</th>\n",
              "    </tr>\n",
              "  </thead>\n",
              "  <tbody>\n",
              "    <tr>\n",
              "      <th>318796</th>\n",
              "      <td>356642</td>\n",
              "      <td>A Bung</td>\n",
              "      <td>107.0261</td>\n",
              "      <td>16.36830</td>\n",
              "      <td>0.0</td>\n",
              "      <td>247.32220</td>\n",
              "      <td>-6.96283</td>\n",
              "      <td>-3.32501</td>\n",
              "      <td>-1.65502</td>\n",
              "      <td>-0.45721</td>\n",
              "      <td>...</td>\n",
              "      <td>7</td>\n",
              "      <td>1</td>\n",
              "      <td>0</td>\n",
              "      <td>1</td>\n",
              "      <td>0</td>\n",
              "      <td>0</td>\n",
              "      <td>0</td>\n",
              "      <td>1</td>\n",
              "      <td>1</td>\n",
              "      <td>1</td>\n",
              "    </tr>\n",
              "    <tr>\n",
              "      <th>289590</th>\n",
              "      <td>356642</td>\n",
              "      <td>A Bung</td>\n",
              "      <td>107.0261</td>\n",
              "      <td>16.36830</td>\n",
              "      <td>0.0</td>\n",
              "      <td>261.96362</td>\n",
              "      <td>-8.14667</td>\n",
              "      <td>-7.26477</td>\n",
              "      <td>-5.58856</td>\n",
              "      <td>-1.25964</td>\n",
              "      <td>...</td>\n",
              "      <td>7</td>\n",
              "      <td>1</td>\n",
              "      <td>0</td>\n",
              "      <td>1</td>\n",
              "      <td>0</td>\n",
              "      <td>0</td>\n",
              "      <td>0</td>\n",
              "      <td>1</td>\n",
              "      <td>1</td>\n",
              "      <td>1</td>\n",
              "    </tr>\n",
              "    <tr>\n",
              "      <th>143659</th>\n",
              "      <td>356642</td>\n",
              "      <td>A Bung</td>\n",
              "      <td>107.0261</td>\n",
              "      <td>16.36830</td>\n",
              "      <td>1.0</td>\n",
              "      <td>265.90723</td>\n",
              "      <td>-7.87616</td>\n",
              "      <td>-8.39807</td>\n",
              "      <td>-7.45459</td>\n",
              "      <td>-1.06446</td>\n",
              "      <td>...</td>\n",
              "      <td>7</td>\n",
              "      <td>1</td>\n",
              "      <td>0</td>\n",
              "      <td>1</td>\n",
              "      <td>0</td>\n",
              "      <td>0</td>\n",
              "      <td>0</td>\n",
              "      <td>1</td>\n",
              "      <td>1</td>\n",
              "      <td>1</td>\n",
              "    </tr>\n",
              "    <tr>\n",
              "      <th>36050</th>\n",
              "      <td>356642</td>\n",
              "      <td>A Bung</td>\n",
              "      <td>107.0261</td>\n",
              "      <td>16.36830</td>\n",
              "      <td>0.0</td>\n",
              "      <td>219.19500</td>\n",
              "      <td>-0.28663</td>\n",
              "      <td>-0.15832</td>\n",
              "      <td>0.38354</td>\n",
              "      <td>-0.70098</td>\n",
              "      <td>...</td>\n",
              "      <td>7</td>\n",
              "      <td>1</td>\n",
              "      <td>0</td>\n",
              "      <td>1</td>\n",
              "      <td>0</td>\n",
              "      <td>0</td>\n",
              "      <td>0</td>\n",
              "      <td>1</td>\n",
              "      <td>1</td>\n",
              "      <td>1</td>\n",
              "    </tr>\n",
              "    <tr>\n",
              "      <th>69852</th>\n",
              "      <td>356642</td>\n",
              "      <td>A Bung</td>\n",
              "      <td>107.0261</td>\n",
              "      <td>16.36830</td>\n",
              "      <td>0.0</td>\n",
              "      <td>234.04285</td>\n",
              "      <td>-2.94098</td>\n",
              "      <td>-2.44903</td>\n",
              "      <td>0.04150</td>\n",
              "      <td>-0.70453</td>\n",
              "      <td>...</td>\n",
              "      <td>7</td>\n",
              "      <td>1</td>\n",
              "      <td>0</td>\n",
              "      <td>1</td>\n",
              "      <td>0</td>\n",
              "      <td>0</td>\n",
              "      <td>0</td>\n",
              "      <td>1</td>\n",
              "      <td>1</td>\n",
              "      <td>1</td>\n",
              "    </tr>\n",
              "    <tr>\n",
              "      <th>...</th>\n",
              "      <td>...</td>\n",
              "      <td>...</td>\n",
              "      <td>...</td>\n",
              "      <td>...</td>\n",
              "      <td>...</td>\n",
              "      <td>...</td>\n",
              "      <td>...</td>\n",
              "      <td>...</td>\n",
              "      <td>...</td>\n",
              "      <td>...</td>\n",
              "      <td>...</td>\n",
              "      <td>...</td>\n",
              "      <td>...</td>\n",
              "      <td>...</td>\n",
              "      <td>...</td>\n",
              "      <td>...</td>\n",
              "      <td>...</td>\n",
              "      <td>...</td>\n",
              "      <td>...</td>\n",
              "      <td>...</td>\n",
              "      <td>...</td>\n",
              "    </tr>\n",
              "    <tr>\n",
              "      <th>88321</th>\n",
              "      <td>299387</td>\n",
              "      <td>Đức Vân - Bắc Kạn</td>\n",
              "      <td>106.0331</td>\n",
              "      <td>22.44722</td>\n",
              "      <td>0.0</td>\n",
              "      <td>259.01727</td>\n",
              "      <td>-6.88428</td>\n",
              "      <td>-3.62695</td>\n",
              "      <td>-1.15674</td>\n",
              "      <td>-2.77727</td>\n",
              "      <td>...</td>\n",
              "      <td>9</td>\n",
              "      <td>1</td>\n",
              "      <td>0</td>\n",
              "      <td>0</td>\n",
              "      <td>1</td>\n",
              "      <td>1</td>\n",
              "      <td>1</td>\n",
              "      <td>0</td>\n",
              "      <td>0</td>\n",
              "      <td>1</td>\n",
              "    </tr>\n",
              "    <tr>\n",
              "      <th>215304</th>\n",
              "      <td>299387</td>\n",
              "      <td>Đức Vân - Bắc Kạn</td>\n",
              "      <td>106.0331</td>\n",
              "      <td>22.44722</td>\n",
              "      <td>0.0</td>\n",
              "      <td>257.19300</td>\n",
              "      <td>-6.88428</td>\n",
              "      <td>-1.94995</td>\n",
              "      <td>-1.54572</td>\n",
              "      <td>-2.29298</td>\n",
              "      <td>...</td>\n",
              "      <td>9</td>\n",
              "      <td>1</td>\n",
              "      <td>0</td>\n",
              "      <td>0</td>\n",
              "      <td>1</td>\n",
              "      <td>1</td>\n",
              "      <td>1</td>\n",
              "      <td>0</td>\n",
              "      <td>0</td>\n",
              "      <td>1</td>\n",
              "    </tr>\n",
              "    <tr>\n",
              "      <th>34857</th>\n",
              "      <td>299387</td>\n",
              "      <td>Đức Vân - Bắc Kạn</td>\n",
              "      <td>106.0331</td>\n",
              "      <td>22.44722</td>\n",
              "      <td>0.2</td>\n",
              "      <td>252.74902</td>\n",
              "      <td>-6.38220</td>\n",
              "      <td>-3.31433</td>\n",
              "      <td>-0.24457</td>\n",
              "      <td>-1.34900</td>\n",
              "      <td>...</td>\n",
              "      <td>9</td>\n",
              "      <td>1</td>\n",
              "      <td>0</td>\n",
              "      <td>0</td>\n",
              "      <td>1</td>\n",
              "      <td>1</td>\n",
              "      <td>1</td>\n",
              "      <td>0</td>\n",
              "      <td>0</td>\n",
              "      <td>1</td>\n",
              "    </tr>\n",
              "    <tr>\n",
              "      <th>324779</th>\n",
              "      <td>299387</td>\n",
              "      <td>Đức Vân - Bắc Kạn</td>\n",
              "      <td>106.0331</td>\n",
              "      <td>22.44722</td>\n",
              "      <td>0.2</td>\n",
              "      <td>254.68500</td>\n",
              "      <td>-6.28107</td>\n",
              "      <td>-2.16149</td>\n",
              "      <td>-1.33851</td>\n",
              "      <td>-2.56500</td>\n",
              "      <td>...</td>\n",
              "      <td>9</td>\n",
              "      <td>1</td>\n",
              "      <td>0</td>\n",
              "      <td>0</td>\n",
              "      <td>1</td>\n",
              "      <td>1</td>\n",
              "      <td>1</td>\n",
              "      <td>0</td>\n",
              "      <td>0</td>\n",
              "      <td>1</td>\n",
              "    </tr>\n",
              "    <tr>\n",
              "      <th>441875</th>\n",
              "      <td>299387</td>\n",
              "      <td>Đức Vân - Bắc Kạn</td>\n",
              "      <td>106.0331</td>\n",
              "      <td>22.44722</td>\n",
              "      <td>0.6</td>\n",
              "      <td>257.80505</td>\n",
              "      <td>-7.28107</td>\n",
              "      <td>-2.90429</td>\n",
              "      <td>-2.18970</td>\n",
              "      <td>-2.22503</td>\n",
              "      <td>...</td>\n",
              "      <td>9</td>\n",
              "      <td>1</td>\n",
              "      <td>0</td>\n",
              "      <td>0</td>\n",
              "      <td>1</td>\n",
              "      <td>1</td>\n",
              "      <td>1</td>\n",
              "      <td>0</td>\n",
              "      <td>0</td>\n",
              "      <td>1</td>\n",
              "    </tr>\n",
              "  </tbody>\n",
              "</table>\n",
              "<p>457271 rows × 24 columns</p>\n",
              "</div>\n",
              "      <button class=\"colab-df-convert\" onclick=\"convertToInteractive('df-3017dc84-9954-4fc9-86b0-8221f45230ab')\"\n",
              "              title=\"Convert this dataframe to an interactive table.\"\n",
              "              style=\"display:none;\">\n",
              "        \n",
              "  <svg xmlns=\"http://www.w3.org/2000/svg\" height=\"24px\"viewBox=\"0 0 24 24\"\n",
              "       width=\"24px\">\n",
              "    <path d=\"M0 0h24v24H0V0z\" fill=\"none\"/>\n",
              "    <path d=\"M18.56 5.44l.94 2.06.94-2.06 2.06-.94-2.06-.94-.94-2.06-.94 2.06-2.06.94zm-11 1L8.5 8.5l.94-2.06 2.06-.94-2.06-.94L8.5 2.5l-.94 2.06-2.06.94zm10 10l.94 2.06.94-2.06 2.06-.94-2.06-.94-.94-2.06-.94 2.06-2.06.94z\"/><path d=\"M17.41 7.96l-1.37-1.37c-.4-.4-.92-.59-1.43-.59-.52 0-1.04.2-1.43.59L10.3 9.45l-7.72 7.72c-.78.78-.78 2.05 0 2.83L4 21.41c.39.39.9.59 1.41.59.51 0 1.02-.2 1.41-.59l7.78-7.78 2.81-2.81c.8-.78.8-2.07 0-2.86zM5.41 20L4 18.59l7.72-7.72 1.47 1.35L5.41 20z\"/>\n",
              "  </svg>\n",
              "      </button>\n",
              "      \n",
              "  <style>\n",
              "    .colab-df-container {\n",
              "      display:flex;\n",
              "      flex-wrap:wrap;\n",
              "      gap: 12px;\n",
              "    }\n",
              "\n",
              "    .colab-df-convert {\n",
              "      background-color: #E8F0FE;\n",
              "      border: none;\n",
              "      border-radius: 50%;\n",
              "      cursor: pointer;\n",
              "      display: none;\n",
              "      fill: #1967D2;\n",
              "      height: 32px;\n",
              "      padding: 0 0 0 0;\n",
              "      width: 32px;\n",
              "    }\n",
              "\n",
              "    .colab-df-convert:hover {\n",
              "      background-color: #E2EBFA;\n",
              "      box-shadow: 0px 1px 2px rgba(60, 64, 67, 0.3), 0px 1px 3px 1px rgba(60, 64, 67, 0.15);\n",
              "      fill: #174EA6;\n",
              "    }\n",
              "\n",
              "    [theme=dark] .colab-df-convert {\n",
              "      background-color: #3B4455;\n",
              "      fill: #D2E3FC;\n",
              "    }\n",
              "\n",
              "    [theme=dark] .colab-df-convert:hover {\n",
              "      background-color: #434B5C;\n",
              "      box-shadow: 0px 1px 3px 1px rgba(0, 0, 0, 0.15);\n",
              "      filter: drop-shadow(0px 1px 2px rgba(0, 0, 0, 0.3));\n",
              "      fill: #FFFFFF;\n",
              "    }\n",
              "  </style>\n",
              "\n",
              "      <script>\n",
              "        const buttonEl =\n",
              "          document.querySelector('#df-3017dc84-9954-4fc9-86b0-8221f45230ab button.colab-df-convert');\n",
              "        buttonEl.style.display =\n",
              "          google.colab.kernel.accessAllowed ? 'block' : 'none';\n",
              "\n",
              "        async function convertToInteractive(key) {\n",
              "          const element = document.querySelector('#df-3017dc84-9954-4fc9-86b0-8221f45230ab');\n",
              "          const dataTable =\n",
              "            await google.colab.kernel.invokeFunction('convertToInteractive',\n",
              "                                                     [key], {});\n",
              "          if (!dataTable) return;\n",
              "\n",
              "          const docLinkHtml = 'Like what you see? Visit the ' +\n",
              "            '<a target=\"_blank\" href=https://colab.research.google.com/notebooks/data_table.ipynb>data table notebook</a>'\n",
              "            + ' to learn more about interactive tables.';\n",
              "          element.innerHTML = '';\n",
              "          dataTable['output_type'] = 'display_data';\n",
              "          await google.colab.output.renderOutput(dataTable, element);\n",
              "          const docLink = document.createElement('div');\n",
              "          docLink.innerHTML = docLinkHtml;\n",
              "          element.appendChild(docLink);\n",
              "        }\n",
              "      </script>\n",
              "    </div>\n",
              "  </div>\n",
              "  "
            ]
          },
          "metadata": {},
          "execution_count": 221
        }
      ],
      "source": [
        "data_train"
      ]
    },
    {
      "cell_type": "code",
      "source": [
        "data_test"
      ],
      "metadata": {
        "id": "RP1vB3QC63VY",
        "outputId": "f5210a8b-1c73-49d6-b9a9-479ddce8dcc3",
        "colab": {
          "base_uri": "https://localhost:8080/",
          "height": 661
        }
      },
      "execution_count": null,
      "outputs": [
        {
          "output_type": "execute_result",
          "data": {
            "text/plain": [
              "         Name         id       lon       lat  value  irb_value   wvb_b09  \\\n",
              "54836  356642     A Bung  107.0261  16.36830    0.0  243.69000  -5.65088   \n",
              "1270   356642     A Bung  107.0261  16.36830    0.0  227.60858  -1.76996   \n",
              "36764  356642     A Bung  107.0261  16.36830    0.0  233.16858  -3.38746   \n",
              "52117  356642     A Bung  107.0261  16.36830    0.0  235.76251  -2.87884   \n",
              "27316  356642     A Bung  107.0261  16.36830    0.0  231.38000  -1.83997   \n",
              "...       ...        ...       ...       ...    ...        ...       ...   \n",
              "49237  630250  Đức Thông  106.2797  22.47917    0.0  284.19714 -10.38653   \n",
              "30501  630250  Đức Thông  106.2797  22.47917    0.0  281.47302 -10.16999   \n",
              "62346  630250  Đức Thông  106.2797  22.47917    0.0  263.68000  -9.50000   \n",
              "18569  630250  Đức Thông  106.2797  22.47917    0.0  263.68000  -9.50000   \n",
              "45516  630250  Đức Thông  106.2797  22.47917    0.0  262.53820  -9.94996   \n",
              "\n",
              "       b09_b10  b10_b16  b11_irb  ...  month  bit_day1  bit_day2  bit_day3  \\\n",
              "54836 -2.40198 -1.00445 -0.91998  ...     10         1         0         0   \n",
              "1270   0.62750 -0.52002 -1.03692  ...     10         1         0         0   \n",
              "36764 -0.40850  0.42596 -0.88855  ...     10         1         0         0   \n",
              "52117 -1.56202  0.67426 -0.38678  ...     10         1         0         0   \n",
              "27316 -0.58001  0.67498 -1.29168  ...     10         1         0         0   \n",
              "...        ...      ...      ...  ...    ...       ...       ...       ...   \n",
              "49237 -9.75569 -9.89727 -2.36284  ...     10         1         0         1   \n",
              "30501 -9.25671 -9.66516 -2.79762  ...     10         1         0         1   \n",
              "62346 -5.95428 -4.72571 -1.75996  ...     10         1         0         1   \n",
              "18569 -5.95428 -4.72571 -1.75996  ...     10         1         0         1   \n",
              "45516 -5.58129 -3.04871 -1.83422  ...     10         1         0         1   \n",
              "\n",
              "       bit_day4  bit_day5  bit_month1  bit_month2  bit_month3  bit_month4  \n",
              "54836         1         1           1           0           1           0  \n",
              "1270          1         1           1           0           1           0  \n",
              "36764         1         1           1           0           1           0  \n",
              "52117         1         1           1           0           1           0  \n",
              "27316         1         1           1           0           1           0  \n",
              "...         ...       ...         ...         ...         ...         ...  \n",
              "49237         0         0           1           0           1           0  \n",
              "30501         0         0           1           0           1           0  \n",
              "62346         0         0           1           0           1           0  \n",
              "18569         0         0           1           0           1           0  \n",
              "45516         0         0           1           0           1           0  \n",
              "\n",
              "[75667 rows x 24 columns]"
            ],
            "text/html": [
              "\n",
              "  <div id=\"df-477c33dc-7d24-4e50-8a81-d01f3f53a6de\">\n",
              "    <div class=\"colab-df-container\">\n",
              "      <div>\n",
              "<style scoped>\n",
              "    .dataframe tbody tr th:only-of-type {\n",
              "        vertical-align: middle;\n",
              "    }\n",
              "\n",
              "    .dataframe tbody tr th {\n",
              "        vertical-align: top;\n",
              "    }\n",
              "\n",
              "    .dataframe thead th {\n",
              "        text-align: right;\n",
              "    }\n",
              "</style>\n",
              "<table border=\"1\" class=\"dataframe\">\n",
              "  <thead>\n",
              "    <tr style=\"text-align: right;\">\n",
              "      <th></th>\n",
              "      <th>Name</th>\n",
              "      <th>id</th>\n",
              "      <th>lon</th>\n",
              "      <th>lat</th>\n",
              "      <th>value</th>\n",
              "      <th>irb_value</th>\n",
              "      <th>wvb_b09</th>\n",
              "      <th>b09_b10</th>\n",
              "      <th>b10_b16</th>\n",
              "      <th>b11_irb</th>\n",
              "      <th>...</th>\n",
              "      <th>month</th>\n",
              "      <th>bit_day1</th>\n",
              "      <th>bit_day2</th>\n",
              "      <th>bit_day3</th>\n",
              "      <th>bit_day4</th>\n",
              "      <th>bit_day5</th>\n",
              "      <th>bit_month1</th>\n",
              "      <th>bit_month2</th>\n",
              "      <th>bit_month3</th>\n",
              "      <th>bit_month4</th>\n",
              "    </tr>\n",
              "  </thead>\n",
              "  <tbody>\n",
              "    <tr>\n",
              "      <th>54836</th>\n",
              "      <td>356642</td>\n",
              "      <td>A Bung</td>\n",
              "      <td>107.0261</td>\n",
              "      <td>16.36830</td>\n",
              "      <td>0.0</td>\n",
              "      <td>243.69000</td>\n",
              "      <td>-5.65088</td>\n",
              "      <td>-2.40198</td>\n",
              "      <td>-1.00445</td>\n",
              "      <td>-0.91998</td>\n",
              "      <td>...</td>\n",
              "      <td>10</td>\n",
              "      <td>1</td>\n",
              "      <td>0</td>\n",
              "      <td>0</td>\n",
              "      <td>1</td>\n",
              "      <td>1</td>\n",
              "      <td>1</td>\n",
              "      <td>0</td>\n",
              "      <td>1</td>\n",
              "      <td>0</td>\n",
              "    </tr>\n",
              "    <tr>\n",
              "      <th>1270</th>\n",
              "      <td>356642</td>\n",
              "      <td>A Bung</td>\n",
              "      <td>107.0261</td>\n",
              "      <td>16.36830</td>\n",
              "      <td>0.0</td>\n",
              "      <td>227.60858</td>\n",
              "      <td>-1.76996</td>\n",
              "      <td>0.62750</td>\n",
              "      <td>-0.52002</td>\n",
              "      <td>-1.03692</td>\n",
              "      <td>...</td>\n",
              "      <td>10</td>\n",
              "      <td>1</td>\n",
              "      <td>0</td>\n",
              "      <td>0</td>\n",
              "      <td>1</td>\n",
              "      <td>1</td>\n",
              "      <td>1</td>\n",
              "      <td>0</td>\n",
              "      <td>1</td>\n",
              "      <td>0</td>\n",
              "    </tr>\n",
              "    <tr>\n",
              "      <th>36764</th>\n",
              "      <td>356642</td>\n",
              "      <td>A Bung</td>\n",
              "      <td>107.0261</td>\n",
              "      <td>16.36830</td>\n",
              "      <td>0.0</td>\n",
              "      <td>233.16858</td>\n",
              "      <td>-3.38746</td>\n",
              "      <td>-0.40850</td>\n",
              "      <td>0.42596</td>\n",
              "      <td>-0.88855</td>\n",
              "      <td>...</td>\n",
              "      <td>10</td>\n",
              "      <td>1</td>\n",
              "      <td>0</td>\n",
              "      <td>0</td>\n",
              "      <td>1</td>\n",
              "      <td>1</td>\n",
              "      <td>1</td>\n",
              "      <td>0</td>\n",
              "      <td>1</td>\n",
              "      <td>0</td>\n",
              "    </tr>\n",
              "    <tr>\n",
              "      <th>52117</th>\n",
              "      <td>356642</td>\n",
              "      <td>A Bung</td>\n",
              "      <td>107.0261</td>\n",
              "      <td>16.36830</td>\n",
              "      <td>0.0</td>\n",
              "      <td>235.76251</td>\n",
              "      <td>-2.87884</td>\n",
              "      <td>-1.56202</td>\n",
              "      <td>0.67426</td>\n",
              "      <td>-0.38678</td>\n",
              "      <td>...</td>\n",
              "      <td>10</td>\n",
              "      <td>1</td>\n",
              "      <td>0</td>\n",
              "      <td>0</td>\n",
              "      <td>1</td>\n",
              "      <td>1</td>\n",
              "      <td>1</td>\n",
              "      <td>0</td>\n",
              "      <td>1</td>\n",
              "      <td>0</td>\n",
              "    </tr>\n",
              "    <tr>\n",
              "      <th>27316</th>\n",
              "      <td>356642</td>\n",
              "      <td>A Bung</td>\n",
              "      <td>107.0261</td>\n",
              "      <td>16.36830</td>\n",
              "      <td>0.0</td>\n",
              "      <td>231.38000</td>\n",
              "      <td>-1.83997</td>\n",
              "      <td>-0.58001</td>\n",
              "      <td>0.67498</td>\n",
              "      <td>-1.29168</td>\n",
              "      <td>...</td>\n",
              "      <td>10</td>\n",
              "      <td>1</td>\n",
              "      <td>0</td>\n",
              "      <td>0</td>\n",
              "      <td>1</td>\n",
              "      <td>1</td>\n",
              "      <td>1</td>\n",
              "      <td>0</td>\n",
              "      <td>1</td>\n",
              "      <td>0</td>\n",
              "    </tr>\n",
              "    <tr>\n",
              "      <th>...</th>\n",
              "      <td>...</td>\n",
              "      <td>...</td>\n",
              "      <td>...</td>\n",
              "      <td>...</td>\n",
              "      <td>...</td>\n",
              "      <td>...</td>\n",
              "      <td>...</td>\n",
              "      <td>...</td>\n",
              "      <td>...</td>\n",
              "      <td>...</td>\n",
              "      <td>...</td>\n",
              "      <td>...</td>\n",
              "      <td>...</td>\n",
              "      <td>...</td>\n",
              "      <td>...</td>\n",
              "      <td>...</td>\n",
              "      <td>...</td>\n",
              "      <td>...</td>\n",
              "      <td>...</td>\n",
              "      <td>...</td>\n",
              "      <td>...</td>\n",
              "    </tr>\n",
              "    <tr>\n",
              "      <th>49237</th>\n",
              "      <td>630250</td>\n",
              "      <td>Đức Thông</td>\n",
              "      <td>106.2797</td>\n",
              "      <td>22.47917</td>\n",
              "      <td>0.0</td>\n",
              "      <td>284.19714</td>\n",
              "      <td>-10.38653</td>\n",
              "      <td>-9.75569</td>\n",
              "      <td>-9.89727</td>\n",
              "      <td>-2.36284</td>\n",
              "      <td>...</td>\n",
              "      <td>10</td>\n",
              "      <td>1</td>\n",
              "      <td>0</td>\n",
              "      <td>1</td>\n",
              "      <td>0</td>\n",
              "      <td>0</td>\n",
              "      <td>1</td>\n",
              "      <td>0</td>\n",
              "      <td>1</td>\n",
              "      <td>0</td>\n",
              "    </tr>\n",
              "    <tr>\n",
              "      <th>30501</th>\n",
              "      <td>630250</td>\n",
              "      <td>Đức Thông</td>\n",
              "      <td>106.2797</td>\n",
              "      <td>22.47917</td>\n",
              "      <td>0.0</td>\n",
              "      <td>281.47302</td>\n",
              "      <td>-10.16999</td>\n",
              "      <td>-9.25671</td>\n",
              "      <td>-9.66516</td>\n",
              "      <td>-2.79762</td>\n",
              "      <td>...</td>\n",
              "      <td>10</td>\n",
              "      <td>1</td>\n",
              "      <td>0</td>\n",
              "      <td>1</td>\n",
              "      <td>0</td>\n",
              "      <td>0</td>\n",
              "      <td>1</td>\n",
              "      <td>0</td>\n",
              "      <td>1</td>\n",
              "      <td>0</td>\n",
              "    </tr>\n",
              "    <tr>\n",
              "      <th>62346</th>\n",
              "      <td>630250</td>\n",
              "      <td>Đức Thông</td>\n",
              "      <td>106.2797</td>\n",
              "      <td>22.47917</td>\n",
              "      <td>0.0</td>\n",
              "      <td>263.68000</td>\n",
              "      <td>-9.50000</td>\n",
              "      <td>-5.95428</td>\n",
              "      <td>-4.72571</td>\n",
              "      <td>-1.75996</td>\n",
              "      <td>...</td>\n",
              "      <td>10</td>\n",
              "      <td>1</td>\n",
              "      <td>0</td>\n",
              "      <td>1</td>\n",
              "      <td>0</td>\n",
              "      <td>0</td>\n",
              "      <td>1</td>\n",
              "      <td>0</td>\n",
              "      <td>1</td>\n",
              "      <td>0</td>\n",
              "    </tr>\n",
              "    <tr>\n",
              "      <th>18569</th>\n",
              "      <td>630250</td>\n",
              "      <td>Đức Thông</td>\n",
              "      <td>106.2797</td>\n",
              "      <td>22.47917</td>\n",
              "      <td>0.0</td>\n",
              "      <td>263.68000</td>\n",
              "      <td>-9.50000</td>\n",
              "      <td>-5.95428</td>\n",
              "      <td>-4.72571</td>\n",
              "      <td>-1.75996</td>\n",
              "      <td>...</td>\n",
              "      <td>10</td>\n",
              "      <td>1</td>\n",
              "      <td>0</td>\n",
              "      <td>1</td>\n",
              "      <td>0</td>\n",
              "      <td>0</td>\n",
              "      <td>1</td>\n",
              "      <td>0</td>\n",
              "      <td>1</td>\n",
              "      <td>0</td>\n",
              "    </tr>\n",
              "    <tr>\n",
              "      <th>45516</th>\n",
              "      <td>630250</td>\n",
              "      <td>Đức Thông</td>\n",
              "      <td>106.2797</td>\n",
              "      <td>22.47917</td>\n",
              "      <td>0.0</td>\n",
              "      <td>262.53820</td>\n",
              "      <td>-9.94996</td>\n",
              "      <td>-5.58129</td>\n",
              "      <td>-3.04871</td>\n",
              "      <td>-1.83422</td>\n",
              "      <td>...</td>\n",
              "      <td>10</td>\n",
              "      <td>1</td>\n",
              "      <td>0</td>\n",
              "      <td>1</td>\n",
              "      <td>0</td>\n",
              "      <td>0</td>\n",
              "      <td>1</td>\n",
              "      <td>0</td>\n",
              "      <td>1</td>\n",
              "      <td>0</td>\n",
              "    </tr>\n",
              "  </tbody>\n",
              "</table>\n",
              "<p>75667 rows × 24 columns</p>\n",
              "</div>\n",
              "      <button class=\"colab-df-convert\" onclick=\"convertToInteractive('df-477c33dc-7d24-4e50-8a81-d01f3f53a6de')\"\n",
              "              title=\"Convert this dataframe to an interactive table.\"\n",
              "              style=\"display:none;\">\n",
              "        \n",
              "  <svg xmlns=\"http://www.w3.org/2000/svg\" height=\"24px\"viewBox=\"0 0 24 24\"\n",
              "       width=\"24px\">\n",
              "    <path d=\"M0 0h24v24H0V0z\" fill=\"none\"/>\n",
              "    <path d=\"M18.56 5.44l.94 2.06.94-2.06 2.06-.94-2.06-.94-.94-2.06-.94 2.06-2.06.94zm-11 1L8.5 8.5l.94-2.06 2.06-.94-2.06-.94L8.5 2.5l-.94 2.06-2.06.94zm10 10l.94 2.06.94-2.06 2.06-.94-2.06-.94-.94-2.06-.94 2.06-2.06.94z\"/><path d=\"M17.41 7.96l-1.37-1.37c-.4-.4-.92-.59-1.43-.59-.52 0-1.04.2-1.43.59L10.3 9.45l-7.72 7.72c-.78.78-.78 2.05 0 2.83L4 21.41c.39.39.9.59 1.41.59.51 0 1.02-.2 1.41-.59l7.78-7.78 2.81-2.81c.8-.78.8-2.07 0-2.86zM5.41 20L4 18.59l7.72-7.72 1.47 1.35L5.41 20z\"/>\n",
              "  </svg>\n",
              "      </button>\n",
              "      \n",
              "  <style>\n",
              "    .colab-df-container {\n",
              "      display:flex;\n",
              "      flex-wrap:wrap;\n",
              "      gap: 12px;\n",
              "    }\n",
              "\n",
              "    .colab-df-convert {\n",
              "      background-color: #E8F0FE;\n",
              "      border: none;\n",
              "      border-radius: 50%;\n",
              "      cursor: pointer;\n",
              "      display: none;\n",
              "      fill: #1967D2;\n",
              "      height: 32px;\n",
              "      padding: 0 0 0 0;\n",
              "      width: 32px;\n",
              "    }\n",
              "\n",
              "    .colab-df-convert:hover {\n",
              "      background-color: #E2EBFA;\n",
              "      box-shadow: 0px 1px 2px rgba(60, 64, 67, 0.3), 0px 1px 3px 1px rgba(60, 64, 67, 0.15);\n",
              "      fill: #174EA6;\n",
              "    }\n",
              "\n",
              "    [theme=dark] .colab-df-convert {\n",
              "      background-color: #3B4455;\n",
              "      fill: #D2E3FC;\n",
              "    }\n",
              "\n",
              "    [theme=dark] .colab-df-convert:hover {\n",
              "      background-color: #434B5C;\n",
              "      box-shadow: 0px 1px 3px 1px rgba(0, 0, 0, 0.15);\n",
              "      filter: drop-shadow(0px 1px 2px rgba(0, 0, 0, 0.3));\n",
              "      fill: #FFFFFF;\n",
              "    }\n",
              "  </style>\n",
              "\n",
              "      <script>\n",
              "        const buttonEl =\n",
              "          document.querySelector('#df-477c33dc-7d24-4e50-8a81-d01f3f53a6de button.colab-df-convert');\n",
              "        buttonEl.style.display =\n",
              "          google.colab.kernel.accessAllowed ? 'block' : 'none';\n",
              "\n",
              "        async function convertToInteractive(key) {\n",
              "          const element = document.querySelector('#df-477c33dc-7d24-4e50-8a81-d01f3f53a6de');\n",
              "          const dataTable =\n",
              "            await google.colab.kernel.invokeFunction('convertToInteractive',\n",
              "                                                     [key], {});\n",
              "          if (!dataTable) return;\n",
              "\n",
              "          const docLinkHtml = 'Like what you see? Visit the ' +\n",
              "            '<a target=\"_blank\" href=https://colab.research.google.com/notebooks/data_table.ipynb>data table notebook</a>'\n",
              "            + ' to learn more about interactive tables.';\n",
              "          element.innerHTML = '';\n",
              "          dataTable['output_type'] = 'display_data';\n",
              "          await google.colab.output.renderOutput(dataTable, element);\n",
              "          const docLink = document.createElement('div');\n",
              "          docLink.innerHTML = docLinkHtml;\n",
              "          element.appendChild(docLink);\n",
              "        }\n",
              "      </script>\n",
              "    </div>\n",
              "  </div>\n",
              "  "
            ]
          },
          "metadata": {},
          "execution_count": 222
        }
      ]
    },
    {
      "cell_type": "code",
      "execution_count": null,
      "metadata": {
        "id": "axQiAUTS968b"
      },
      "outputs": [],
      "source": [
        "data_train = data_train.reset_index(drop = True)"
      ]
    },
    {
      "cell_type": "code",
      "execution_count": null,
      "metadata": {
        "id": "AT7-AkaiOwtb"
      },
      "outputs": [],
      "source": [
        "data_test = data_test.reset_index(drop = True)"
      ]
    },
    {
      "cell_type": "code",
      "execution_count": null,
      "metadata": {
        "id": "9VgZ6nR775u-"
      },
      "outputs": [],
      "source": [
        "data_train['rain'] = data_train['value'].apply(lambda x: 0 if x == 0 else 1)"
      ]
    },
    {
      "cell_type": "code",
      "execution_count": null,
      "metadata": {
        "id": "Vp_RxwArO1AK"
      },
      "outputs": [],
      "source": [
        "data_test['rain'] = data_test['value'].apply(lambda x: 0 if x == 0 else 1)"
      ]
    },
    {
      "cell_type": "code",
      "execution_count": null,
      "metadata": {
        "id": "r_NtT7yE8WXa",
        "colab": {
          "base_uri": "https://localhost:8080/"
        },
        "outputId": "7b9ec22e-8402-42f4-93f8-39fdf12542d2"
      },
      "outputs": [
        {
          "output_type": "execute_result",
          "data": {
            "text/plain": [
              "0    274360\n",
              "1    182911\n",
              "Name: rain, dtype: int64"
            ]
          },
          "metadata": {},
          "execution_count": 227
        }
      ],
      "source": [
        "data_train['rain'].value_counts()"
      ]
    },
    {
      "cell_type": "code",
      "execution_count": null,
      "metadata": {
        "id": "SmHXUnoIA8bi",
        "colab": {
          "base_uri": "https://localhost:8080/"
        },
        "outputId": "971bb4bf-c818-47f9-960f-58359d80ea02"
      },
      "outputs": [
        {
          "output_type": "execute_result",
          "data": {
            "text/plain": [
              "(457271, 25)"
            ]
          },
          "metadata": {},
          "execution_count": 228
        }
      ],
      "source": [
        "data_train.shape"
      ]
    },
    {
      "cell_type": "code",
      "source": [
        "data_test.shape"
      ],
      "metadata": {
        "colab": {
          "base_uri": "https://localhost:8080/"
        },
        "id": "4oHwcI9u5kSf",
        "outputId": "179f62da-a43b-47f2-f10a-00be9466a9d5"
      },
      "execution_count": null,
      "outputs": [
        {
          "output_type": "execute_result",
          "data": {
            "text/plain": [
              "(75667, 25)"
            ]
          },
          "metadata": {},
          "execution_count": 229
        }
      ]
    },
    {
      "cell_type": "code",
      "execution_count": null,
      "metadata": {
        "id": "p4LUu5vOGaF8"
      },
      "outputs": [],
      "source": [
        "# from sklearn.preprocessing import MinMaxScaler\n",
        "# scaler = MinMaxScaler()\n",
        "# data_train[['irb_value']] = scaler.fit_transform(data_train[['irb_value']])\n",
        "# data_train[['b10_b16']] = scaler.fit_transform(data_train[['b10_b16']])\n",
        "# data_train[['b11_irb']] = scaler.fit_transform(data_train[['b11_irb']])\n",
        "# data_train[['irb_i2b']] = scaler.fit_transform(data_train[['irb_i2b']])\n",
        "# data_train[['wvb_b09']] = scaler.fit_transform(data_train[['wvb_b09']])\n",
        "# data_train[['b09_b10']] = scaler.fit_transform(data_train[['b09_b10']])\n",
        "# data_train[['lon']] = scaler.fit_transform(data_train[['lon']])\n",
        "# data_train[['lat']] = scaler.fit_transform(data_train[['lat']])\n",
        "# data_train[['hour']] = scaler.fit_transform(data_train[['hour']])\n",
        "# data_train[['date']] = scaler.fit_transform(data_train[['date']])"
      ]
    },
    {
      "cell_type": "code",
      "execution_count": null,
      "metadata": {
        "id": "Zt8nW03HO9pT"
      },
      "outputs": [],
      "source": [
        "# data_test[['irb_value']] = scaler.fit_transform(data_test[['irb_value']])\n",
        "# data_test[['b10_b16']] = scaler.fit_transform(data_test[['b10_b16']])\n",
        "# data_test[['b11_irb']] = scaler.fit_transform(data_test[['b11_irb']])\n",
        "# data_test[['irb_i2b']] = scaler.fit_transform(data_test[['irb_i2b']])\n",
        "# data_test[['wvb_b09']] = scaler.fit_transform(data_test[['wvb_b09']])\n",
        "# data_test[['b09_b10']] = scaler.fit_transform(data_test[['b09_b10']])\n",
        "# data_test[['lon']] = scaler.fit_transform(data_test[['lon']])\n",
        "# data_test[['lat']] = scaler.fit_transform(data_test[['lat']])\n",
        "# data_test[['hour']] = scaler.fit_transform(data_test[['hour']])\n",
        "# data_test[['date']] = scaler.fit_transform(data_test[['date']])"
      ]
    },
    {
      "cell_type": "code",
      "execution_count": null,
      "metadata": {
        "id": "PloDkgLUIY1L"
      },
      "outputs": [],
      "source": [
        "\n",
        "input_train = []\n",
        "output_train = []\n",
        "no_of_sample = len(data_train)\n",
        "WINDOW_SIZE = 3 # 3 gio\n",
        "for i in range(no_of_sample - WINDOW_SIZE + 1):\n",
        "  next_idx = i + WINDOW_SIZE - 1\n",
        "  if(data_train['hour'][next_idx] == (data_train['hour'][i] + WINDOW_SIZE - 1) % 24 and data_train['hour'][next_idx - 1] == (data_train['hour'][i] + WINDOW_SIZE - 2) and data_train['lat'][next_idx] == data_train['lat'][i] ):\n",
        "    X = data_train.loc[i:i + WINDOW_SIZE - 1]\n",
        "    X = X.drop(columns = ['hour', 'lat', 'value','lon', 'date', 'Name', 'id','rain'])\n",
        "    X.to_numpy()\n",
        "    input_train.append(X)\n",
        "    output_train.append(data_train['rain'][i+WINDOW_SIZE - 1])\n",
        "\n"
      ]
    },
    {
      "cell_type": "code",
      "execution_count": null,
      "metadata": {
        "id": "OvEdMjQcPKA8"
      },
      "outputs": [],
      "source": [
        "input_test = []\n",
        "output_test = []\n",
        "no_of_sample = len(data_test)\n",
        "WINDOW_SIZE = 3 # 3 gio\n",
        "for i in range(no_of_sample - WINDOW_SIZE + 1):\n",
        "  next_idx = i + WINDOW_SIZE - 1\n",
        "  if(data_test['hour'][next_idx] == (data_test['hour'][i] + WINDOW_SIZE - 1) % 24 and data_test['hour'][next_idx - 1] == (data_test['hour'][i] + WINDOW_SIZE - 2) and data_test['lat'][next_idx] == data_test['lat'][i] ):\n",
        "    X = data_test.loc[i:i + WINDOW_SIZE - 1]\n",
        "    X = X.drop(columns = ['hour', 'lat', 'value','lon', 'date', 'Name', 'id','rain'])\n",
        "    X.to_numpy()\n",
        "    input_test.append(X)\n",
        "    output_test.append(data_test['rain'][i+WINDOW_SIZE - 1])"
      ]
    },
    {
      "cell_type": "code",
      "execution_count": null,
      "metadata": {
        "id": "FIhXV9wUSqJq"
      },
      "outputs": [],
      "source": [
        "X_train = np.array(input_train)"
      ]
    },
    {
      "cell_type": "code",
      "execution_count": null,
      "metadata": {
        "id": "yFf-_LhbFHE-"
      },
      "outputs": [],
      "source": [
        "y_train = np.array(output_train)"
      ]
    },
    {
      "cell_type": "code",
      "execution_count": null,
      "metadata": {
        "id": "6yBrzNWOSz_1"
      },
      "outputs": [],
      "source": [
        "X_test = np.array(input_test)"
      ]
    },
    {
      "cell_type": "code",
      "execution_count": null,
      "metadata": {
        "id": "WcedPHDyFQQA"
      },
      "outputs": [],
      "source": [
        "y_test = np.array(output_test)"
      ]
    },
    {
      "cell_type": "code",
      "execution_count": null,
      "metadata": {
        "id": "iYbT4XbDN8dL",
        "colab": {
          "base_uri": "https://localhost:8080/"
        },
        "outputId": "c7a3ed14-c14e-46fc-9fcf-86bbd5b4259d"
      },
      "outputs": [
        {
          "output_type": "execute_result",
          "data": {
            "text/plain": [
              "(167304, 3, 17)"
            ]
          },
          "metadata": {},
          "execution_count": 238
        }
      ],
      "source": [
        "X_train.shape"
      ]
    },
    {
      "cell_type": "code",
      "source": [
        "X_test.shape"
      ],
      "metadata": {
        "id": "Zy_y9lhMX8zw",
        "colab": {
          "base_uri": "https://localhost:8080/"
        },
        "outputId": "eb3339b5-ff4b-4e5c-93f5-224d9a03b758"
      },
      "execution_count": null,
      "outputs": [
        {
          "output_type": "execute_result",
          "data": {
            "text/plain": [
              "(21005, 3, 17)"
            ]
          },
          "metadata": {},
          "execution_count": 239
        }
      ]
    },
    {
      "cell_type": "markdown",
      "metadata": {
        "id": "odyGme4XaISU"
      },
      "source": []
    },
    {
      "cell_type": "code",
      "execution_count": null,
      "metadata": {
        "id": "3rXISCzN9AIt"
      },
      "outputs": [],
      "source": [
        "#model\n",
        "regressor = Sequential()\n",
        "regressor.add(LSTM(units = 50, input_shape = (X_train.shape[1], X_train.shape[2])))\n",
        "regressor.add(Dense(units = 1, activation = 'sigmoid'))\n",
        "regressor.compile(optimizer = 'adam', loss = 'binary_crossentropy', metrics=['acc', f1_m])"
      ]
    },
    {
      "cell_type": "code",
      "execution_count": null,
      "metadata": {
        "id": "n7XlSPaA9Vvq",
        "colab": {
          "base_uri": "https://localhost:8080/"
        },
        "outputId": "781bea13-b5d5-47e4-b7c8-385ec74c94f9"
      },
      "outputs": [
        {
          "output_type": "stream",
          "name": "stdout",
          "text": [
            "Epoch 1/32\n",
            "327/327 [==============================] - 7s 14ms/step - loss: 0.6869 - acc: 0.5437 - f1_m: 0.6710\n",
            "Epoch 2/32\n",
            "327/327 [==============================] - 5s 14ms/step - loss: 0.6820 - acc: 0.5608 - f1_m: 0.6618\n",
            "Epoch 3/32\n",
            "327/327 [==============================] - 5s 14ms/step - loss: 0.6771 - acc: 0.5752 - f1_m: 0.6601\n",
            "Epoch 4/32\n",
            "327/327 [==============================] - 5s 16ms/step - loss: 0.6729 - acc: 0.5846 - f1_m: 0.6603\n",
            "Epoch 5/32\n",
            "327/327 [==============================] - 5s 15ms/step - loss: 0.6689 - acc: 0.5937 - f1_m: 0.6623\n",
            "Epoch 6/32\n",
            "327/327 [==============================] - 5s 15ms/step - loss: 0.6654 - acc: 0.6012 - f1_m: 0.6655\n",
            "Epoch 7/32\n",
            "327/327 [==============================] - 5s 14ms/step - loss: 0.6624 - acc: 0.6082 - f1_m: 0.6687\n",
            "Epoch 8/32\n",
            "327/327 [==============================] - 5s 15ms/step - loss: 0.6604 - acc: 0.6117 - f1_m: 0.6684\n",
            "Epoch 9/32\n",
            "327/327 [==============================] - 5s 14ms/step - loss: 0.6581 - acc: 0.6154 - f1_m: 0.6716\n",
            "Epoch 10/32\n",
            "327/327 [==============================] - 5s 15ms/step - loss: 0.6572 - acc: 0.6152 - f1_m: 0.6692\n",
            "Epoch 11/32\n",
            "327/327 [==============================] - 5s 14ms/step - loss: 0.6553 - acc: 0.6185 - f1_m: 0.6719\n",
            "Epoch 12/32\n",
            "327/327 [==============================] - 5s 14ms/step - loss: 0.6539 - acc: 0.6207 - f1_m: 0.6734\n",
            "Epoch 13/32\n",
            "327/327 [==============================] - 5s 15ms/step - loss: 0.6525 - acc: 0.6212 - f1_m: 0.6735\n",
            "Epoch 14/32\n",
            "327/327 [==============================] - 5s 15ms/step - loss: 0.6514 - acc: 0.6240 - f1_m: 0.6750\n",
            "Epoch 15/32\n",
            "327/327 [==============================] - 5s 15ms/step - loss: 0.6500 - acc: 0.6251 - f1_m: 0.6756\n",
            "Epoch 16/32\n",
            "327/327 [==============================] - 5s 15ms/step - loss: 0.6493 - acc: 0.6261 - f1_m: 0.6761\n",
            "Epoch 17/32\n",
            "327/327 [==============================] - 5s 14ms/step - loss: 0.6488 - acc: 0.6253 - f1_m: 0.6751\n",
            "Epoch 18/32\n",
            "327/327 [==============================] - 5s 15ms/step - loss: 0.6475 - acc: 0.6274 - f1_m: 0.6776\n",
            "Epoch 19/32\n",
            "327/327 [==============================] - 5s 14ms/step - loss: 0.6468 - acc: 0.6278 - f1_m: 0.6777\n",
            "Epoch 20/32\n",
            "327/327 [==============================] - 5s 14ms/step - loss: 0.6457 - acc: 0.6292 - f1_m: 0.6787\n",
            "Epoch 21/32\n",
            "327/327 [==============================] - 4s 13ms/step - loss: 0.6453 - acc: 0.6294 - f1_m: 0.6785\n",
            "Epoch 22/32\n",
            "327/327 [==============================] - 5s 14ms/step - loss: 0.6445 - acc: 0.6299 - f1_m: 0.6789\n",
            "Epoch 23/32\n",
            "327/327 [==============================] - 5s 14ms/step - loss: 0.6436 - acc: 0.6317 - f1_m: 0.6803\n",
            "Epoch 24/32\n",
            "327/327 [==============================] - 5s 14ms/step - loss: 0.6431 - acc: 0.6307 - f1_m: 0.6792\n",
            "Epoch 25/32\n",
            "327/327 [==============================] - 5s 15ms/step - loss: 0.6419 - acc: 0.6335 - f1_m: 0.6825\n",
            "Epoch 26/32\n",
            "327/327 [==============================] - 5s 14ms/step - loss: 0.6417 - acc: 0.6336 - f1_m: 0.6813\n",
            "Epoch 27/32\n",
            "327/327 [==============================] - 5s 15ms/step - loss: 0.6413 - acc: 0.6334 - f1_m: 0.6826\n",
            "Epoch 28/32\n",
            "327/327 [==============================] - 5s 15ms/step - loss: 0.6404 - acc: 0.6343 - f1_m: 0.6825\n",
            "Epoch 29/32\n",
            "327/327 [==============================] - 5s 14ms/step - loss: 0.6400 - acc: 0.6359 - f1_m: 0.6846\n",
            "Epoch 30/32\n",
            "327/327 [==============================] - 5s 15ms/step - loss: 0.6394 - acc: 0.6358 - f1_m: 0.6842\n",
            "Epoch 31/32\n",
            "327/327 [==============================] - 5s 15ms/step - loss: 0.6382 - acc: 0.6386 - f1_m: 0.6872\n",
            "Epoch 32/32\n",
            "327/327 [==============================] - 5s 14ms/step - loss: 0.6385 - acc: 0.6383 - f1_m: 0.6863\n"
          ]
        },
        {
          "output_type": "execute_result",
          "data": {
            "text/plain": [
              "<keras.callbacks.History at 0x7f390bea6590>"
            ]
          },
          "metadata": {},
          "execution_count": 241
        }
      ],
      "source": [
        "regressor.fit(X_train, y_train, epochs = 32, batch_size= 512 )"
      ]
    },
    {
      "cell_type": "code",
      "execution_count": null,
      "metadata": {
        "id": "I3aiqGZC-K_b"
      },
      "outputs": [],
      "source": [
        "y_predict = regressor.predict(X_test).flatten()"
      ]
    },
    {
      "cell_type": "code",
      "source": [
        "y_predict.shape"
      ],
      "metadata": {
        "id": "pBxH1fBl-uWd",
        "colab": {
          "base_uri": "https://localhost:8080/"
        },
        "outputId": "4dd1b83c-b198-471a-f1de-7a0442a5b319"
      },
      "execution_count": null,
      "outputs": [
        {
          "output_type": "execute_result",
          "data": {
            "text/plain": [
              "(21005,)"
            ]
          },
          "metadata": {},
          "execution_count": 243
        }
      ]
    },
    {
      "cell_type": "code",
      "source": [
        "y_predict[0:5]"
      ],
      "metadata": {
        "id": "RQWkPmtk5QMN",
        "colab": {
          "base_uri": "https://localhost:8080/"
        },
        "outputId": "2991748d-c20a-4bad-d427-bec4b4a859ac"
      },
      "execution_count": null,
      "outputs": [
        {
          "output_type": "execute_result",
          "data": {
            "text/plain": [
              "array([0.5941191 , 0.57558554, 0.6375683 , 0.7925192 , 0.76727176],\n",
              "      dtype=float32)"
            ]
          },
          "metadata": {},
          "execution_count": 244
        }
      ]
    },
    {
      "cell_type": "code",
      "source": [
        "y_train_predict = regressor.predict(X_train).flatten()"
      ],
      "metadata": {
        "id": "P8kjuI7tQn0Y"
      },
      "execution_count": null,
      "outputs": []
    },
    {
      "cell_type": "code",
      "source": [
        "train_predict = [0 if i < 0.5 else 1 for i in y_train_predict]"
      ],
      "metadata": {
        "id": "1_HR90nSQxzv"
      },
      "execution_count": null,
      "outputs": []
    },
    {
      "cell_type": "code",
      "source": [
        "test_predict = [0 if i < 0.5 else 1 for i in y_predict]"
      ],
      "metadata": {
        "id": "AXd1mGT_O96x"
      },
      "execution_count": null,
      "outputs": []
    },
    {
      "cell_type": "code",
      "source": [
        "unique, counts = np.unique(np.array(test_predict), return_counts=True)\n",
        "\n",
        "np.asarray((unique, counts)).T"
      ],
      "metadata": {
        "id": "54IV8m-K9PTN",
        "colab": {
          "base_uri": "https://localhost:8080/"
        },
        "outputId": "ef8099f8-1fe1-4cde-e5da-64a9482f7a8a"
      },
      "execution_count": null,
      "outputs": [
        {
          "output_type": "execute_result",
          "data": {
            "text/plain": [
              "array([[    0,  8023],\n",
              "       [    1, 12982]])"
            ]
          },
          "metadata": {},
          "execution_count": 248
        }
      ]
    },
    {
      "cell_type": "code",
      "source": [
        "unique1, counts1 = np.unique(np.array(y_test), return_counts=True)\n",
        "\n",
        "np.asarray((unique1, counts1)).T"
      ],
      "metadata": {
        "id": "lIz82BsQ_2TF",
        "colab": {
          "base_uri": "https://localhost:8080/"
        },
        "outputId": "53284c2d-77f4-4a24-b82d-01b76b31b445"
      },
      "execution_count": null,
      "outputs": [
        {
          "output_type": "execute_result",
          "data": {
            "text/plain": [
              "array([[    0,  9278],\n",
              "       [    1, 11727]])"
            ]
          },
          "metadata": {},
          "execution_count": 249
        }
      ]
    },
    {
      "cell_type": "code",
      "source": [
        "train_tn, train_fp, train_fn, train_tp = confusion_matrix(y_train, train_predict).ravel()\n",
        "\n",
        "prec_no_rain = train_tn / (train_tn + train_fn)\n",
        "prec_rain = train_tp / (train_tp + train_fp)\n",
        "\n",
        "recall_no_rain = train_tn / (train_tn + train_fp)\n",
        "recall_rain = train_tp / (train_tp + train_fn)\n",
        "\n",
        "print('precision no rain {:.2f}'.format(prec_no_rain))\n",
        "print('precision rain: {:.2f}'.format(prec_rain))\n",
        "\n",
        "print('recall no rain: {:.2f}'.format(recall_no_rain))\n",
        "print('recall rain: {:.2f}'.format(recall_rain))\n",
        "\n",
        "print('f1 no rain: {:.2f}'.format(2 * (prec_no_rain * recall_no_rain) / (prec_no_rain + recall_no_rain)))\n",
        "print('f1 rain: {:.2f}'.format(2 * (prec_rain * recall_rain) / (prec_rain + recall_rain)))\n",
        "\n",
        "print('accuracy: {:.2f}'.format(accuracy_score(y_train, train_predict)))"
      ],
      "metadata": {
        "id": "WTyqUBz6N2E7",
        "colab": {
          "base_uri": "https://localhost:8080/"
        },
        "outputId": "a575715e-423b-45e7-a768-f6c82e7f0a03"
      },
      "execution_count": null,
      "outputs": [
        {
          "output_type": "stream",
          "name": "stdout",
          "text": [
            "precision no rain 0.62\n",
            "precision rain: 0.65\n",
            "recall no rain: 0.58\n",
            "recall rain: 0.68\n",
            "f1 no rain: 0.60\n",
            "f1 rain: 0.67\n",
            "accuracy: 0.64\n"
          ]
        }
      ]
    },
    {
      "cell_type": "code",
      "source": [
        "test_tn, test_fp, test_fn, test_tp = confusion_matrix(y_test, test_predict).ravel()\n",
        "\n",
        "prec_no_rain = test_tn / (test_tn + test_fn)\n",
        "prec_rain = test_tp / (test_tp + test_fp)\n",
        "\n",
        "recall_no_rain = test_tn / (test_tn + test_fp)\n",
        "recall_rain = test_tp / (test_tp + test_fn)\n",
        "\n",
        "print('precision no rain {:.2f}'.format(prec_no_rain))\n",
        "print('precision rain: {:.2f}'.format(prec_rain))\n",
        "\n",
        "print('recall no rain: {:.2f}'.format(recall_no_rain))\n",
        "print('recall rain: {:.2f}'.format(recall_rain))\n",
        "\n",
        "print('f1 no rain: {:.2f}'.format(2 * (prec_no_rain * recall_no_rain) / (prec_no_rain + recall_no_rain)))\n",
        "print('f1 rain: {:.2f}'.format(2 * (prec_rain * recall_rain) / (prec_rain + recall_rain)))\n",
        "\n",
        "print('accuracy: {:.2f}'.format(accuracy_score(y_test, test_predict)))"
      ],
      "metadata": {
        "id": "6w-y5THGPvyv",
        "colab": {
          "base_uri": "https://localhost:8080/"
        },
        "outputId": "2d0c0746-4196-4d5a-aa4a-8298ef82cb1b"
      },
      "execution_count": null,
      "outputs": [
        {
          "output_type": "stream",
          "name": "stdout",
          "text": [
            "precision no rain 0.48\n",
            "precision rain: 0.58\n",
            "recall no rain: 0.41\n",
            "recall rain: 0.64\n",
            "f1 no rain: 0.44\n",
            "f1 rain: 0.61\n",
            "accuracy: 0.54\n"
          ]
        }
      ]
    },
    {
      "cell_type": "code",
      "source": [],
      "metadata": {
        "id": "_a06SczMopEf"
      },
      "execution_count": null,
      "outputs": []
    }
  ],
  "metadata": {
    "accelerator": "GPU",
    "colab": {
      "collapsed_sections": [],
      "provenance": []
    },
    "gpuClass": "standard",
    "kernelspec": {
      "display_name": "Python 3",
      "name": "python3"
    },
    "language_info": {
      "name": "python"
    }
  },
  "nbformat": 4,
  "nbformat_minor": 0
}